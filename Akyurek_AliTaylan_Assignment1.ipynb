{
 "cells": [
  {
   "cell_type": "code",
   "execution_count": 348,
   "id": "a5884bc7",
   "metadata": {
    "scrolled": true
   },
   "outputs": [
    {
     "name": "stdout",
     "output_type": "stream",
     "text": [
      "fatal: destination path 'fastText' already exists and is not an empty directory.\n",
      "/Users/alitaylanakyurek/Downloads/Assigment_1/fastText\n",
      "Processing /Users/alitaylanakyurek/Downloads/Assigment_1/fastText\n",
      "  Preparing metadata (setup.py) ... \u001b[?25ldone\n",
      "\u001b[?25hRequirement already satisfied: pybind11>=2.2 in /Users/alitaylanakyurek/anaconda3/envs/olartik/lib/python3.8/site-packages (from fasttext==0.9.2) (2.10.4)\n",
      "Requirement already satisfied: setuptools>=0.7.0 in /Users/alitaylanakyurek/anaconda3/envs/olartik/lib/python3.8/site-packages (from fasttext==0.9.2) (65.6.3)\n",
      "Requirement already satisfied: numpy in /Users/alitaylanakyurek/anaconda3/envs/olartik/lib/python3.8/site-packages (from fasttext==0.9.2) (1.24.2)\n",
      "Building wheels for collected packages: fasttext\n",
      "  Building wheel for fasttext (setup.py) ... \u001b[?25ldone\n",
      "\u001b[?25h  Created wheel for fasttext: filename=fasttext-0.9.2-cp38-cp38-macosx_10_16_x86_64.whl size=353716 sha256=e5c1f8611edd28a32c84ae54367a712b23c7c275d82878a29faa911fed32a475\n",
      "  Stored in directory: /private/var/folders/84/xkfrxtbd2hsbzdg1twbdsq340000gn/T/pip-ephem-wheel-cache-bxu4q6fw/wheels/ee/07/01/3fd810fc38316f3132f4095687872e0a36026c7e64d27dfa30\n",
      "Successfully built fasttext\n",
      "Installing collected packages: fasttext\n",
      "  Attempting uninstall: fasttext\n",
      "    Found existing installation: fasttext 0.9.2\n",
      "    Uninstalling fasttext-0.9.2:\n",
      "      Successfully uninstalled fasttext-0.9.2\n",
      "Successfully installed fasttext-0.9.2\n",
      "/Users/alitaylanakyurek/anaconda3/envs/olartik/lib/python3.8/site-packages/setuptools/dist.py:770: UserWarning: Usage of dash-separated 'description-file' will not be supported in future versions. Please use the underscore name 'description_file' instead\n",
      "  warnings.warn(\n",
      "running install\n",
      "/Users/alitaylanakyurek/anaconda3/envs/olartik/lib/python3.8/site-packages/setuptools/command/install.py:34: SetuptoolsDeprecationWarning: setup.py install is deprecated. Use build and pip and other standards-based tools.\n",
      "  warnings.warn(\n",
      "/Users/alitaylanakyurek/anaconda3/envs/olartik/lib/python3.8/site-packages/setuptools/command/easy_install.py:144: EasyInstallDeprecationWarning: easy_install command is deprecated. Use build and pip and other standards-based tools.\n",
      "  warnings.warn(\n",
      "running bdist_egg\n",
      "running egg_info\n",
      "writing python/fasttext_module/fasttext.egg-info/PKG-INFO\n",
      "writing dependency_links to python/fasttext_module/fasttext.egg-info/dependency_links.txt\n",
      "writing requirements to python/fasttext_module/fasttext.egg-info/requires.txt\n",
      "writing top-level names to python/fasttext_module/fasttext.egg-info/top_level.txt\n",
      "reading manifest file 'python/fasttext_module/fasttext.egg-info/SOURCES.txt'\n",
      "reading manifest template 'MANIFEST.in'\n",
      "warning: no files found matching 'PATENTS'\n",
      "adding license file 'LICENSE'\n",
      "writing manifest file 'python/fasttext_module/fasttext.egg-info/SOURCES.txt'\n",
      "installing library code to build/bdist.macosx-10.9-x86_64/egg\n",
      "running install_lib\n",
      "running build_py\n",
      "running build_ext\n",
      "gcc -Wno-unused-result -Wsign-compare -Wunreachable-code -DNDEBUG -g -fwrapv -O3 -Wall -Wstrict-prototypes -I/Users/alitaylanakyurek/anaconda3/envs/olartik/include -arch x86_64 -I/Users/alitaylanakyurek/anaconda3/envs/olartik/include -arch x86_64 -I/Users/alitaylanakyurek/anaconda3/envs/olartik/include/python3.8 -c /var/folders/84/xkfrxtbd2hsbzdg1twbdsq340000gn/T/tmp6sfmxywu.cpp -o var/folders/84/xkfrxtbd2hsbzdg1twbdsq340000gn/T/tmp6sfmxywu.o -stdlib=libc++\n",
      "gcc -Wno-unused-result -Wsign-compare -Wunreachable-code -DNDEBUG -g -fwrapv -O3 -Wall -Wstrict-prototypes -I/Users/alitaylanakyurek/anaconda3/envs/olartik/include -arch x86_64 -I/Users/alitaylanakyurek/anaconda3/envs/olartik/include -arch x86_64 -I/Users/alitaylanakyurek/anaconda3/envs/olartik/include/python3.8 -c /var/folders/84/xkfrxtbd2hsbzdg1twbdsq340000gn/T/tmpyu93mfo9.cpp -o var/folders/84/xkfrxtbd2hsbzdg1twbdsq340000gn/T/tmpyu93mfo9.o -std=c++11\n",
      "gcc -Wno-unused-result -Wsign-compare -Wunreachable-code -DNDEBUG -g -fwrapv -O3 -Wall -Wstrict-prototypes -I/Users/alitaylanakyurek/anaconda3/envs/olartik/include -arch x86_64 -I/Users/alitaylanakyurek/anaconda3/envs/olartik/include -arch x86_64 -I/Users/alitaylanakyurek/anaconda3/envs/olartik/include/python3.8 -c /var/folders/84/xkfrxtbd2hsbzdg1twbdsq340000gn/T/tmpwyz43_pl.cpp -o var/folders/84/xkfrxtbd2hsbzdg1twbdsq340000gn/T/tmpwyz43_pl.o -fvisibility=hidden\n",
      "creating build/bdist.macosx-10.9-x86_64/egg\n",
      "copying build/lib.macosx-10.9-x86_64-cpython-38/fasttext_pybind.cpython-38-darwin.so -> build/bdist.macosx-10.9-x86_64/egg\n",
      "creating build/bdist.macosx-10.9-x86_64/egg/fasttext\n",
      "creating build/bdist.macosx-10.9-x86_64/egg/fasttext/util\n",
      "copying build/lib.macosx-10.9-x86_64-cpython-38/fasttext/util/util.py -> build/bdist.macosx-10.9-x86_64/egg/fasttext/util\n",
      "copying build/lib.macosx-10.9-x86_64-cpython-38/fasttext/util/__init__.py -> build/bdist.macosx-10.9-x86_64/egg/fasttext/util\n",
      "creating build/bdist.macosx-10.9-x86_64/egg/fasttext/tests\n",
      "copying build/lib.macosx-10.9-x86_64-cpython-38/fasttext/tests/test_script.py -> build/bdist.macosx-10.9-x86_64/egg/fasttext/tests\n",
      "copying build/lib.macosx-10.9-x86_64-cpython-38/fasttext/tests/__init__.py -> build/bdist.macosx-10.9-x86_64/egg/fasttext/tests\n",
      "copying build/lib.macosx-10.9-x86_64-cpython-38/fasttext/tests/test_configurations.py -> build/bdist.macosx-10.9-x86_64/egg/fasttext/tests\n",
      "copying build/lib.macosx-10.9-x86_64-cpython-38/fasttext/__init__.py -> build/bdist.macosx-10.9-x86_64/egg/fasttext\n",
      "copying build/lib.macosx-10.9-x86_64-cpython-38/fasttext/FastText.py -> build/bdist.macosx-10.9-x86_64/egg/fasttext\n",
      "byte-compiling build/bdist.macosx-10.9-x86_64/egg/fasttext/util/util.py to util.cpython-38.pyc\n",
      "byte-compiling build/bdist.macosx-10.9-x86_64/egg/fasttext/util/__init__.py to __init__.cpython-38.pyc\n",
      "byte-compiling build/bdist.macosx-10.9-x86_64/egg/fasttext/tests/test_script.py to test_script.cpython-38.pyc\n",
      "byte-compiling build/bdist.macosx-10.9-x86_64/egg/fasttext/tests/__init__.py to __init__.cpython-38.pyc\n",
      "byte-compiling build/bdist.macosx-10.9-x86_64/egg/fasttext/tests/test_configurations.py to test_configurations.cpython-38.pyc\n",
      "byte-compiling build/bdist.macosx-10.9-x86_64/egg/fasttext/__init__.py to __init__.cpython-38.pyc\n",
      "byte-compiling build/bdist.macosx-10.9-x86_64/egg/fasttext/FastText.py to FastText.cpython-38.pyc\n",
      "creating stub loader for fasttext_pybind.cpython-38-darwin.so\n",
      "byte-compiling build/bdist.macosx-10.9-x86_64/egg/fasttext_pybind.py to fasttext_pybind.cpython-38.pyc\n",
      "creating build/bdist.macosx-10.9-x86_64/egg/EGG-INFO\n",
      "copying python/fasttext_module/fasttext.egg-info/PKG-INFO -> build/bdist.macosx-10.9-x86_64/egg/EGG-INFO\n",
      "copying python/fasttext_module/fasttext.egg-info/SOURCES.txt -> build/bdist.macosx-10.9-x86_64/egg/EGG-INFO\n",
      "copying python/fasttext_module/fasttext.egg-info/dependency_links.txt -> build/bdist.macosx-10.9-x86_64/egg/EGG-INFO\n",
      "copying python/fasttext_module/fasttext.egg-info/not-zip-safe -> build/bdist.macosx-10.9-x86_64/egg/EGG-INFO\n",
      "copying python/fasttext_module/fasttext.egg-info/requires.txt -> build/bdist.macosx-10.9-x86_64/egg/EGG-INFO\n",
      "copying python/fasttext_module/fasttext.egg-info/top_level.txt -> build/bdist.macosx-10.9-x86_64/egg/EGG-INFO\n",
      "writing build/bdist.macosx-10.9-x86_64/egg/EGG-INFO/native_libs.txt\n",
      "creating 'dist/fasttext-0.9.2-py3.8-macosx-10.9-x86_64.egg' and adding 'build/bdist.macosx-10.9-x86_64/egg' to it\n",
      "removing 'build/bdist.macosx-10.9-x86_64/egg' (and everything under it)\n",
      "Processing fasttext-0.9.2-py3.8-macosx-10.9-x86_64.egg\n",
      "removing '/Users/alitaylanakyurek/anaconda3/envs/olartik/lib/python3.8/site-packages/fasttext-0.9.2-py3.8-macosx-10.9-x86_64.egg' (and everything under it)\n",
      "creating /Users/alitaylanakyurek/anaconda3/envs/olartik/lib/python3.8/site-packages/fasttext-0.9.2-py3.8-macosx-10.9-x86_64.egg\n",
      "Extracting fasttext-0.9.2-py3.8-macosx-10.9-x86_64.egg to /Users/alitaylanakyurek/anaconda3/envs/olartik/lib/python3.8/site-packages\n",
      "fasttext 0.9.2 is already the active version in easy-install.pth\n",
      "\n",
      "Installed /Users/alitaylanakyurek/anaconda3/envs/olartik/lib/python3.8/site-packages/fasttext-0.9.2-py3.8-macosx-10.9-x86_64.egg\n",
      "Processing dependencies for fasttext==0.9.2\n",
      "Searching for numpy==1.24.2\n",
      "Best match: numpy 1.24.2\n",
      "Adding numpy 1.24.2 to easy-install.pth file\n",
      "Installing f2py script to /Users/alitaylanakyurek/anaconda3/envs/olartik/bin\n",
      "Installing f2py3 script to /Users/alitaylanakyurek/anaconda3/envs/olartik/bin\n",
      "Installing f2py3.8 script to /Users/alitaylanakyurek/anaconda3/envs/olartik/bin\n",
      "\n",
      "Using /Users/alitaylanakyurek/anaconda3/envs/olartik/lib/python3.8/site-packages\n",
      "Searching for setuptools==65.6.3\n",
      "Best match: setuptools 65.6.3\n",
      "Adding setuptools 65.6.3 to easy-install.pth file\n",
      "\n",
      "Using /Users/alitaylanakyurek/anaconda3/envs/olartik/lib/python3.8/site-packages\n",
      "Searching for pybind11==2.10.4\n",
      "Best match: pybind11 2.10.4\n",
      "Adding pybind11 2.10.4 to easy-install.pth file\n",
      "Installing pybind11-config script to /Users/alitaylanakyurek/anaconda3/envs/olartik/bin\n",
      "\n",
      "Using /Users/alitaylanakyurek/anaconda3/envs/olartik/lib/python3.8/site-packages\n",
      "Finished processing dependencies for fasttext==0.9.2\n"
     ]
    },
    {
     "name": "stdout",
     "output_type": "stream",
     "text": [
      "/Users/alitaylanakyurek/Downloads/Assigment_1\n"
     ]
    }
   ],
   "source": [
    "!git clone https://github.com/facebookresearch/fastText.git\n",
    "%cd fastText\n",
    "!pip install .\n",
    "!python setup.py install\n",
    "%cd .."
   ]
  },
  {
   "cell_type": "code",
   "execution_count": 1,
   "id": "b1055762",
   "metadata": {},
   "outputs": [],
   "source": [
    "# Test if installation was successful\n",
    "import fasttext"
   ]
  },
  {
   "cell_type": "code",
   "execution_count": 4,
   "id": "5429a1d4",
   "metadata": {},
   "outputs": [
    {
     "name": "stdout",
     "output_type": "stream",
     "text": [
      "Cloning into 'wikifil'...\n",
      "remote: Enumerating objects: 12, done.\u001b[K\n",
      "remote: Total 12 (delta 0), reused 0 (delta 0), pack-reused 12\u001b[K\n",
      "Receiving objects: 100% (12/12), done.\n",
      "Resolving deltas: 100% (1/1), done.\n"
     ]
    }
   ],
   "source": [
    "!git clone https://github.com/hghodrati/wikifil.git"
   ]
  },
  {
   "cell_type": "code",
   "execution_count": 7,
   "id": "a13d2993",
   "metadata": {},
   "outputs": [],
   "source": [
    "# preprocess xml and save to new file\n",
    "!perl wikifil/wikifil.pl dataset/trwiki-20230401-pages-articles-multistream.xml > dataset/data_embed"
   ]
  },
  {
   "cell_type": "code",
   "execution_count": 2,
   "id": "6a6d4af1",
   "metadata": {},
   "outputs": [
    {
     "name": "stdout",
     "output_type": "stream",
     "text": [
      "\r\n",
      " one one six two do um yeri onon nehri d l n boldak mo olistan l m tarihi l m y"
     ]
    }
   ],
   "source": [
    "# Visualize data\n",
    "!head -c 80 dataset/data_embed"
   ]
  },
  {
   "cell_type": "code",
   "execution_count": 2,
   "id": "bec6f689",
   "metadata": {},
   "outputs": [
    {
     "name": "stdout",
     "output_type": "stream",
     "text": [
      "mkdir: results: File exists\r\n"
     ]
    }
   ],
   "source": [
    "%mkdir results\n",
    "CBOW_EMBED = \"results/embed_cbow.bin\"\n",
    "SKIPGRAM_EMBED = \"results/embed_skipgram.bin\""
   ]
  },
  {
   "cell_type": "code",
   "execution_count": null,
   "id": "832e515e",
   "metadata": {},
   "outputs": [
    {
     "name": "stderr",
     "output_type": "stream",
     "text": [
      "Read 247M words\n",
      "Number of words:  443672\n",
      "Number of labels: 0\n",
      "Progress:   0.8% words/sec/thread:  150013 lr:  0.049624 avg.loss:  1.940438 ETA:   0h45m29s"
     ]
    }
   ],
   "source": [
    "import fasttext\n",
    "\n",
    "EMBEDDING_DIM = 100\n",
    "# Train the CBOW model\n",
    "embed_model_cbow = fasttext.train_unsupervised('dataset/data_embed', model='cbow')\n",
    "embed_model_cbow.save_model(CBOW_EMBED)\n",
    "embed_model_cbow = fasttext.load_model(CBOW_EMBED)\n"
   ]
  },
  {
   "cell_type": "code",
   "execution_count": 3,
   "id": "921104fa",
   "metadata": {},
   "outputs": [],
   "source": [
    "embed_model_cbow = fasttext.load_model(CBOW_EMBED)"
   ]
  },
  {
   "cell_type": "code",
   "execution_count": 17,
   "id": "a5980f8e",
   "metadata": {},
   "outputs": [
    {
     "name": "stderr",
     "output_type": "stream",
     "text": [
      "IOPub data rate exceeded.\n",
      "The notebook server will temporarily stop sending output\n",
      "to the client in order to avoid crashing it.\n",
      "To change this limit, set the config variable\n",
      "`--NotebookApp.iopub_data_rate_limit`.\n",
      "\n",
      "Current values:\n",
      "NotebookApp.iopub_data_rate_limit=1000000.0 (bytes/sec)\n",
      "NotebookApp.rate_limit_window=3.0 (secs)\n",
      "\n"
     ]
    }
   ],
   "source": [
    "print(embed_model_cbow.words)"
   ]
  },
  {
   "cell_type": "code",
   "execution_count": 5,
   "id": "6d579728",
   "metadata": {},
   "outputs": [
    {
     "name": "stdout",
     "output_type": "stream",
     "text": [
      "[-2.294296   -1.880908    3.866084   -0.53450984 -0.746529    1.2178588\n",
      " -1.508628    5.126393    4.724427    1.326548   -3.1210868  -0.05586785\n",
      "  3.1144812   2.345092   -3.872583   -3.8402267  -1.4458805  -2.4879267\n",
      " -5.706722    0.3979774  -0.01078974 -0.19841765 -3.4739966   0.12982167\n",
      " -2.3909354  -0.27577567 -0.78161     1.8083713  -3.041014   -2.7527332\n",
      " -1.3530577   1.8920608  -2.2907948  -1.4107292  -0.8124462  -2.4625294\n",
      "  1.0520375   5.3012066  -1.5035663   0.15662003 -0.25623044 -3.2469213\n",
      " -2.0428581   1.5839351   1.4489285   3.18555     3.4286888  -0.6306196\n",
      " -0.43345064  0.17236225 -0.80951196  1.8966606   3.1868393   1.1018137\n",
      "  3.5887115   2.4989686   0.02336156 -2.594473    2.9108121  -0.07575616\n",
      "  1.1116657   3.7941074   5.2764163   0.99557275 -0.3277472   1.095738\n",
      "  4.4159336  -0.38141736 -3.6937728   1.02839     2.1005235  -3.070873\n",
      " -3.3441906  -0.23965181  0.59716076 -1.195617    0.7714918   2.3524938\n",
      " -2.861599   -3.3698997  -0.88416934  2.0075004  -2.7597904  -0.02217024\n",
      " -2.2821712  -7.7566767  -5.4268346   4.1134953   2.2448065  -5.046139\n",
      "  1.6639282  -1.8220382   2.1154168  -1.2516415  -2.8340168   0.44802064\n",
      "  5.0285215  -0.07429399 -0.2509875  -3.8180683 ]\n"
     ]
    }
   ],
   "source": [
    "print(embed_model_cbow['kral']) "
   ]
  },
  {
   "cell_type": "code",
   "execution_count": 8,
   "id": "74e9f074",
   "metadata": {},
   "outputs": [],
   "source": [
    "word = \"\""
   ]
  },
  {
   "cell_type": "code",
   "execution_count": 6,
   "id": "e0dc653b",
   "metadata": {},
   "outputs": [
    {
     "data": {
      "text/plain": [
       "[(0.0, 'two'),\n",
       " (0.0, 'nine'),\n",
       " (0.0, 'three'),\n",
       " (0.0, 'r'),\n",
       " (0.0, 've'),\n",
       " (0.0, 'four'),\n",
       " (0.0, 'dojosunu'),\n",
       " (0.0, 'sithtmdetails'),\n",
       " (0.0, 'havayolar'),\n",
       " (0.0, 'tutanaklarda')]"
      ]
     },
     "execution_count": 6,
     "metadata": {},
     "output_type": "execute_result"
    }
   ],
   "source": [
    "embed_model_cbow.get_nearest_neighbors(word)"
   ]
  },
  {
   "cell_type": "code",
   "execution_count": 33,
   "id": "1deecc62",
   "metadata": {},
   "outputs": [
    {
     "name": "stderr",
     "output_type": "stream",
     "text": [
      "Read 247M words\n",
      "Number of words:  443672\n",
      "Number of labels: 0\n",
      "Progress: 100.0% words/sec/thread:   74852 lr:  0.000000 avg.loss:  0.123364 ETA:   0h 0m 0s  0.0% words/sec/thread:   67176 lr:  0.049988 avg.loss:  2.561009 ETA:   1h42m20s  4.0% words/sec/thread:   77278 lr:  0.047992 avg.loss:  1.165188 ETA:   1h25m25s  4.4% words/sec/thread:   77169 lr:  0.047798 avg.loss:  1.151303 ETA:   1h25m11s  6.6% words/sec/thread:   79455 lr:  0.046708 avg.loss:  0.937080 ETA:   1h20m51s 12.9% words/sec/thread:   81644 lr:  0.043557 avg.loss:  0.662723 ETA:   1h13m22s 13.8% words/sec/thread:   81735 lr:  0.043113 avg.loss:  0.644022 ETA:   1h12m32s 19.1% words/sec/thread:   82194 lr:  0.040473 avg.loss:  0.571332 ETA:   1h 7m43s 21.3% words/sec/thread:   82403 lr:  0.039348 avg.loss:  0.516128 ETA:   1h 5m40s 21.7% words/sec/thread:   82341 lr:  0.039163 avg.loss:  0.507160 ETA:   1h 5m25s 22.4% words/sec/thread:   82356 lr:  0.038788 avg.loss:  0.490504 ETA:   1h 4m46s 37.4% words/sec/thread:   83565 lr:  0.031303 avg.loss:  0.303571 ETA:   0h51m31s words/sec/thread:   83553 lr:  0.031223 avg.loss:  0.302326 ETA:   0h51m23s 37.9% words/sec/thread:   83537 lr:  0.031056 avg.loss:  0.299797 ETA:   0h51m 7s 43.0% words/sec/thread:   83506 lr:  0.028504 avg.loss:  0.265866 ETA:   0h46m56s0.263945 ETA:   0h46m41s 56.1% words/sec/thread:   82881 lr:  0.021972 avg.loss:  0.208965 ETA:   0h36m27s words/sec/thread:   81620 lr:  0.021176 avg.loss:  0.203660 ETA:   0h35m41s 57.7% words/sec/thread:   81526 lr:  0.021166 avg.loss:  0.203602 ETA:   0h35m42s 57.7% words/sec/thread:   81461 lr:  0.021159 avg.loss:  0.203559 ETA:   0h35m43s57.7% words/sec/thread:   81422 lr:  0.021153 avg.loss:  0.203517 ETA:   0h35m43s 57.7% words/sec/thread:   81360 lr:  0.021140 avg.loss:  0.203429 ETA:   0h35m44s 60.2% words/sec/thread:   79990 lr:  0.019904 avg.loss:  0.195799 ETA:   0h34m13s 61.6% words/sec/thread:   79360 lr:  0.019215 avg.loss:  0.191707 ETA:   0h33m18s 61.8% words/sec/thread:   79256 lr:  0.019077 avg.loss:  0.190868 ETA:   0h33m 6s 64.4% words/sec/thread:   78694 lr:  0.017816 avg.loss:  0.184068 ETA:   0h31m 8s 65.4% words/sec/thread:   78100 lr:  0.017293 avg.loss:  0.181262 ETA:   0h30m27s 65.5% words/sec/thread:   78080 lr:  0.017247 avg.loss:  0.181170 ETA:   0h30m22s 65.6% words/sec/thread:   78095 lr:  0.017205 avg.loss:  0.181104 ETA:   0h30m18s 66.2% words/sec/thread:   77824 lr:  0.016913 avg.loss:  0.179573 ETA:   0h29m53s 66.2% words/sec/thread:   77791 lr:  0.016904 avg.loss:  0.179525 ETA:   0h29m53s 66.2% words/sec/thread:   77736 lr:  0.016891 avg.loss:  0.179452 ETA:   0h29m53s 66.2% words/sec/thread:   77717 lr:  0.016882 avg.loss:  0.179407 ETA:   0h29m52s 66.3% words/sec/thread:   77629 lr:  0.016841 avg.loss:  0.179177 ETA:   0h29m50s 68.5% words/sec/thread:   77387 lr:  0.015740 avg.loss:  0.173839 ETA:   0h27m58s  77591 lr:  0.014129 avg.loss:  0.166983 ETA:   0h25m 2s 72.4% words/sec/thread:   77516 lr:  0.013821 avg.loss:  0.165718 ETA:   0h24m31s.165647 ETA:   0h24m31s 72.4% words/sec/thread:   77248 lr:  0.013788 avg.loss:  0.165577 ETA:   0h24m33s 72.7% words/sec/thread:   77141 lr:  0.013671 avg.loss:  0.165067 ETA:   0h24m22s 72.8% words/sec/thread:   77079 lr:  0.013602 avg.loss:  0.164769 ETA:   0h24m16s 72.8% words/sec/thread:   77058 lr:  0.013600 avg.loss:  0.164761 ETA:   0h24m16s75.3% words/sec/thread:   76703 lr:  0.012338 avg.loss:  0.159679 ETA:   0h22m 7s 75.6% words/sec/thread:   76643 lr:  0.012180 avg.loss:  0.159061 ETA:   0h21m51s 75.7% words/sec/thread:   76592 lr:  0.012169 avg.loss:  0.159016 ETA:   0h21m51s 75.7% words/sec/thread:   76549 lr:  0.012145 avg.loss:  0.158932 ETA:   0h21m49s 77.0% words/sec/thread:   76300 lr:  0.011500 avg.loss:  0.156481 ETA:   0h20m43s 77.3% words/sec/thread:   76283 lr:  0.011345 avg.loss:  0.155904 ETA:   0h20m27s 81.7% words/sec/thread:   76215 lr:  0.009172 avg.loss:  0.148149 ETA:   0h16m33s 82.5% words/sec/thread:   76150 lr:  0.008758 avg.loss:  0.146749 ETA:   0h15m49s 82.5% words/sec/thread:   76149 lr:  0.008747 avg.loss:  0.146707 ETA:   0h15m47s 83.1% words/sec/thread:   76128 lr:  0.008460 avg.loss:  0.145722 ETA:   0h15m17s 83.3% words/sec/thread:   76119 lr:  0.008366 avg.loss:  0.145417 ETA:   0h15m 6s0.144110 ETA:   0h14m23s 84.9% words/sec/thread:   75927 lr:  0.007563 avg.loss:  0.142923 ETA:   0h13m42s13m20sm47s 90.7% words/sec/thread:   76232 lr:  0.004661 avg.loss:  0.134826 ETA:   0h 8m24s 92.9% words/sec/thread:   76451 lr:  0.003532 avg.loss:  0.132091 ETA:   0h 6m21s 93.3% words/sec/thread:   76386 lr:  0.003326 avg.loss:  0.131541 ETA:   0h 5m59s 93.4% words/sec/thread:   76334 lr:  0.003315 avg.loss:  0.131514 ETA:   0h 5m58s 93.4% words/sec/thread:   76305 lr:  0.003312 avg.loss:  0.131504 ETA:   0h 5m58s 93.5% words/sec/thread:   76236 lr:  0.003265 avg.loss:  0.131379 ETA:   0h 5m53s lr:  0.002878 avg.loss:  0.130342 ETA:   0h 5m13s 5m12s 96.1% words/sec/thread:   74954 lr:  0.001928 avg.loss:  0.127958 ETA:   0h 3m32s 97.4% words/sec/thread:   74896 lr:  0.001308 avg.loss:  0.126430 ETA:   0h 2m24s\n"
     ]
    }
   ],
   "source": [
    "embed_model_skipgram = fasttext.train_unsupervised('dataset/data_embed', model='skipgram')\n",
    "embed_model_skipgram.save_model(SKIPGRAM_EMBED)\n",
    "embed_model_skipgram = fasttext.load_model(SKIPGRAM_EMBED)\n"
   ]
  },
  {
   "cell_type": "code",
   "execution_count": 4,
   "id": "8060b808",
   "metadata": {},
   "outputs": [],
   "source": [
    "embed_model_skipgram = fasttext.load_model(SKIPGRAM_EMBED)"
   ]
  },
  {
   "cell_type": "code",
   "execution_count": 9,
   "id": "bb6600ae",
   "metadata": {
    "scrolled": true
   },
   "outputs": [
    {
     "name": "stdout",
     "output_type": "stream",
     "text": [
      "[-0.14061163  0.21152861  0.37297234  0.17459579 -0.06302437 -0.23896378\n",
      " -0.0406476   0.48994002  0.85156524  0.24002695  0.17524059  0.27344623\n",
      "  0.28669873 -0.20847699  0.24135225 -0.52514803  0.16876692  0.05644416\n",
      " -0.7636112   0.57508785 -0.1068361  -0.51401365  0.28645584  0.04247218\n",
      " -0.23114674  0.05552669  0.53369427  0.6509493  -0.43459892 -0.22358531\n",
      " -0.00744076  0.33292818 -0.0874656   0.09704663  0.02884606 -0.5719166\n",
      "  0.09101292  0.2132607   0.3231337  -0.07480907  0.0565987   0.25604635\n",
      "  0.5738702   0.24749093  0.47816133  0.512537    0.7872196   0.45064402\n",
      " -0.05651958  0.6161764   0.16024846  0.52799463  0.28019077  0.85644996\n",
      "  0.56254166 -0.27865806  0.35512173 -0.15564233  0.12851554 -0.04819189\n",
      "  0.49310368  0.56622326 -0.30021083 -0.26640487  0.88466156 -0.04250515\n",
      " -0.12148838  0.28936973 -0.2367553   0.07663409 -0.54772973  0.0713184\n",
      "  0.27757034 -0.89804256  0.15931012  0.34308848  0.30547467 -0.09906186\n",
      "  0.21058516 -0.29232493  0.0034294   0.4890303  -0.24436696  0.00555835\n",
      " -0.39094627 -0.64635265  0.07750459 -0.10007867  0.3917649   0.23357414\n",
      " -0.25625584 -0.3657456  -0.06075604  0.00414856 -0.55685645  0.082157\n",
      "  0.3377067  -0.3713417  -0.12459658 -0.10524766]\n"
     ]
    }
   ],
   "source": [
    "print(embed_model_skipgram['kral']) "
   ]
  },
  {
   "cell_type": "code",
   "execution_count": 10,
   "id": "12384c07",
   "metadata": {},
   "outputs": [
    {
     "data": {
      "text/plain": [
       "[(0.0, 'two'),\n",
       " (0.0, 'nine'),\n",
       " (0.0, 'three'),\n",
       " (0.0, 'r'),\n",
       " (0.0, 've'),\n",
       " (0.0, 'four'),\n",
       " (0.0, 'dojosunu'),\n",
       " (0.0, 'sithtmdetails'),\n",
       " (0.0, 'havayolar'),\n",
       " (0.0, 'tutanaklarda')]"
      ]
     },
     "execution_count": 10,
     "metadata": {},
     "output_type": "execute_result"
    }
   ],
   "source": [
    "embed_model_skipgram.get_nearest_neighbors(word)"
   ]
  },
  {
   "cell_type": "code",
   "execution_count": 11,
   "id": "3c313920",
   "metadata": {},
   "outputs": [
    {
     "data": {
      "text/plain": [
       "[(0.7531418204307556, 'samsung'),\n",
       " (0.7077250480651855, 'redmi'),\n",
       " (0.6996424198150635, 'axy'),\n",
       " (0.6976189613342285, 'xperia'),\n",
       " (0.6925432682037354, 'duos'),\n",
       " (0.6889880895614624, 'phablet'),\n",
       " (0.6831598877906799, 'touchwiz'),\n",
       " (0.6829336285591125, 'meizu'),\n",
       " (0.6817553043365479, 'telefoto'),\n",
       " (0.6693254113197327, 'galax')]"
      ]
     },
     "execution_count": 11,
     "metadata": {},
     "output_type": "execute_result"
    }
   ],
   "source": [
    "embed_model_skipgram.get_analogies(\"iphone\", \"apple\", \"galaxy\")"
   ]
  },
  {
   "cell_type": "code",
   "execution_count": 12,
   "id": "107a06d5",
   "metadata": {},
   "outputs": [
    {
     "name": "stdout",
     "output_type": "stream",
     "text": [
      "Your answer:Anology I find was: iphone, apple, galaxy  and it outputted samsung which is reasonable. I am not %100 sure about how they are calculated but it probably compares first two word's embeddings, then based on in which way they are correlated, projects third word vector into that dimension and finds closest (in terms of cosine similarity) word embedding vector in that dimension.\n"
     ]
    }
   ],
   "source": [
    "#### Inline Question 2: Find an example of an analogy that holds, using the `get_analogies` function. Explain the analogy and also how the analogies are calculated.\n",
    "\n",
    "print(\"Your answer:Anology I find was: iphone, apple, galaxy  and it outputted samsung which is reasonable. I am not %100 sure about how they are calculated but it probably compares first two word's embeddings, then based on in which way they are correlated, projects third word vector into that dimension and finds closest (in terms of cosine similarity) word embedding vector in that dimension.\")\n"
   ]
  },
  {
   "cell_type": "code",
   "execution_count": 13,
   "id": "e4d5239e",
   "metadata": {},
   "outputs": [],
   "source": [
    "import torch\n",
    "import torch.nn as nn\n",
    "import torch.optim as optim\n",
    "from torch.utils.data import DataLoader, Dataset\n",
    "from typing import List, Tuple, Dict\n",
    "import numpy as np\n",
    "import random\n",
    "from torch.nn.utils.rnn import pad_sequence\n",
    "import time\n",
    "from tqdm import tqdm\n",
    "from matplotlib import pyplot as plt\n",
    "import random\n",
    "from collections import Counter"
   ]
  },
  {
   "cell_type": "code",
   "execution_count": 14,
   "id": "7f4611c2",
   "metadata": {},
   "outputs": [],
   "source": [
    "#Set the seeds for reproducibility\n",
    "SEED = 542\n",
    "\n",
    "random.seed(SEED)\n",
    "np.random.seed(SEED)\n",
    "torch.manual_seed(SEED)\n",
    "torch.backends.cudnn.deterministic = True"
   ]
  },
  {
   "cell_type": "code",
   "execution_count": 15,
   "id": "579feeb2",
   "metadata": {},
   "outputs": [
    {
     "name": "stdout",
     "output_type": "stream",
     "text": [
      "False\n",
      "using device: cpu\n"
     ]
    }
   ],
   "source": [
    "USE_GPU = True\n",
    "\n",
    "dtype = torch.float32 # we will be using float throughout this tutorial\n",
    "\n",
    "print(torch.cuda.is_available())\n",
    "\n",
    "if USE_GPU and torch.cuda.is_available():\n",
    "    device = torch.device('cuda')\n",
    "else:\n",
    "    device = torch.device('cpu')\n",
    "    \n",
    "print('using device:', device)"
   ]
  },
  {
   "cell_type": "code",
   "execution_count": 16,
   "id": "4ee5551d",
   "metadata": {},
   "outputs": [],
   "source": [
    "def parse_file(file_path):\n",
    "    \"\"\"\n",
    "    Parses a file in the Universal Dependencies (UD) annotation style and returns a list of all the sentences in the file.\n",
    "    Note: The data files you need in this part of the assignemnt are stored under the dataset/ directory. You can open the\n",
    "    files to have a better understanding of the format. If you want to learn more about the POS tags, you can visit the\n",
    "    Universal Dependencies website: https://universaldependencies.org/tr/pos/index.html\n",
    "\n",
    "    The output should be a list of tuples, where each tuple represents a sentence and contains (word, POS tag) pairs for each\n",
    "    word in the sentence. For example, the following sentence:\n",
    "\n",
    "    \"The quick brown fox jumps over the lazy dog.\"\n",
    "    should be represented as:\n",
    "    [(\"The\", \"DET\"), (\"quick\", \"ADJ\"), (\"brown\", \"ADJ\"), (\"fox\", \"NOUN\"), (\"jumps\", \"VERB\"), (\"over\", \"ADP\"), (\"the\", \"DET\"), (\"lazy\", \"ADJ\"), (\"dog\", \"NOUN\"), (\".\", \"PUNCT\")]\n",
    "    \n",
    "    Args:\n",
    "    file_path (str): The path to the file to be parsed.\n",
    "    \n",
    "    Returns:\n",
    "    list: A list of tuples, where each tuple represents a sentence and contains (word, POS tag) pairs for each word in the sentence.\n",
    "    \"\"\"\n",
    "    # *****START OF YOUR CODE*****\n",
    "    sentences = []\n",
    "    sentence = []\n",
    "\n",
    "    with open(file_path, \"r\") as f:\n",
    "        for line in f:\n",
    "            line = line.strip()\n",
    "            if line.startswith(\"#\"):\n",
    "                continue\n",
    "            \n",
    "            elif not line:\n",
    "                if sentence:\n",
    "                    sentences.append(sentence)\n",
    "                    sentence = []\n",
    "            else:\n",
    "                columns = line.split(\"\\t\")\n",
    "                word, pos_tag = columns[1], columns[3]\n",
    "                sentence.append((word, pos_tag))\n",
    "\n",
    "    if sentence:\n",
    "        sentences.append(sentence)\n",
    "\n",
    "    return sentences\n",
    "\n",
    "    \n",
    "    \n",
    "\n",
    "    # *****END OF YOUR CODE*****\n"
   ]
  },
  {
   "cell_type": "code",
   "execution_count": 17,
   "id": "b1ba0ff9",
   "metadata": {},
   "outputs": [
    {
     "data": {
      "text/plain": [
       "[('Adeta', 'ADV'),\n",
       " ('kendimden', 'PRON'),\n",
       " ('geçmiş', 'VERB'),\n",
       " ('bir', 'DET'),\n",
       " ('haldeyim', '_'),\n",
       " ('halde', 'NOUN'),\n",
       " ('yim', 'AUX'),\n",
       " ('.', 'PUNCT')]"
      ]
     },
     "execution_count": 17,
     "metadata": {},
     "output_type": "execute_result"
    }
   ],
   "source": [
    "posTags = parse_file(\"dataset/train.conllu\")\n",
    "posTags[1]"
   ]
  },
  {
   "cell_type": "code",
   "execution_count": 18,
   "id": "a1a1ec81",
   "metadata": {},
   "outputs": [
    {
     "name": "stdout",
     "output_type": "stream",
     "text": [
      "('kendimden', 'PRON')\n"
     ]
    },
    {
     "data": {
      "text/plain": [
       "7803"
      ]
     },
     "execution_count": 18,
     "metadata": {},
     "output_type": "execute_result"
    }
   ],
   "source": [
    "print(posTags[1][1])\n",
    "len(posTags)"
   ]
  },
  {
   "cell_type": "code",
   "execution_count": null,
   "id": "9b07fe96",
   "metadata": {},
   "outputs": [],
   "source": []
  },
  {
   "cell_type": "code",
   "execution_count": 19,
   "id": "cdb9713d",
   "metadata": {},
   "outputs": [],
   "source": [
    "def build_vocab(data: List[List[Tuple[str, str]]]) -> Tuple[Dict[str, int], Dict[str, int]]:\n",
    "    \"\"\"\n",
    "    Builds a vocabulary of words and part-of-speech (POS) tags based on the input data. Don't forget to add special tokens (e.g. <PAD>, <UNK>, etc.)\n",
    "\n",
    "    Args:\n",
    "    data (List[List[Tuple[str, str]]]): A list of sentences, where each sentence is represented as a list of (word, POS tag) tuples.\n",
    "\n",
    "    Returns:\n",
    "    Tuple[Dict[str, int], Dict[str, int]]: A tuple containing two dictionaries. The first dictionary maps words to their index in the vocabulary, and the second dictionary maps POS tags to their index in the vocabulary.\n",
    "    \"\"\"  \n",
    "    # *****START OF YOUR CODE*****\n",
    " \n",
    "    Dict1 = {}\n",
    "    Dict2 = {}\n",
    "    Dict1[\"<PAD>\"] = 0\n",
    "    Dict1[\"<UNK>\"] = 1\n",
    "    Dict2[\"<PAD>\"] = 0\n",
    "    Dict2[\"<UNK>\"] = 1\n",
    "    currentIndexWord = 2\n",
    "\n",
    "    currentIndexPos = 2\n",
    "\n",
    "    for i in range(len(data)):\n",
    "        for j in range(len(data[i])):\n",
    "            if data[i][j][0] not in Dict1.keys():\n",
    "                Dict1[data[i][j][0]] = currentIndexWord\n",
    "                currentIndexWord += 1\n",
    "                currentPos = '<' + data[i][j][1] + '>'\n",
    "\n",
    "                if currentPos not in Dict2.keys():\n",
    "                        Dict2['<' + data[i][j][1] + '>'] = currentIndexPos\n",
    "                        currentIndexPos += 1\n",
    "\n",
    "\n",
    "                    \n",
    "    return (Dict1, Dict2)\n",
    "    \n",
    "    # *****END OF YOUR CODE*****"
   ]
  },
  {
   "cell_type": "code",
   "execution_count": 20,
   "id": "c1778a6a",
   "metadata": {},
   "outputs": [],
   "source": [
    "a = []\n",
    "data = posTags\n",
    "a = build_vocab(data)\n",
    "wordDict = a[0]\n",
    "posDict = a[1]"
   ]
  },
  {
   "cell_type": "code",
   "execution_count": 22,
   "id": "b9de1a25",
   "metadata": {},
   "outputs": [
    {
     "name": "stdout",
     "output_type": "stream",
     "text": [
      "[[('1936', 'NUM'), ('yılındayız', '_'), ('yılında', 'NOUN'), ('yız', 'AUX'), ('.', 'PUNCT')], [('Adeta', 'ADV'), ('kendimden', 'PRON'), ('geçmiş', 'VERB'), ('bir', 'DET'), ('haldeyim', '_'), ('halde', 'NOUN'), ('yim', 'AUX'), ('.', 'PUNCT')], [('O', 'PRON'), ('nasıl', 'ADV'), ('derse', 'VERB'), ('desin', 'VERB'), ('uğraştığı', 'VERB'), ('sanatın', 'NOUN'), ('kendisine', 'PRON'), ('emanet', 'NOUN'), ('olduğunu', 'VERB'), ('söyleyen', 'VERB'), ('üstadları', 'NOUN'), ('vardı', '_'), ('var', 'NOUN'), ('dı', 'AUX'), ('.', 'PUNCT')], [('Ahmed', 'PROPN'), ('Rasim', 'PROPN'), (',', 'PUNCT'), (\"Büyükada'ya\", 'PROPN'), ('gidip', 'VERB'), ('birkaç', 'DET'), ('gün', 'NOUN'), ('kalmayı', 'VERB'), ('tasarlamıştı', '_'), ('tasarlamış', 'VERB'), ('tı', 'AUX'), ('.', 'PUNCT')], [('Rüzgâr', 'NOUN'), ('yine', 'ADV'), ('güçlü', 'ADV'), ('esiyordu', '_'), ('esiyor', 'VERB'), ('du', 'AUX'), ('.', 'PUNCT')], [('Öte', 'NOUN'), ('yandan', 'NOUN'), ('Sarı', 'ADJ'), ('-', 'PUNCT'), ('Lacivertliler', 'NOUN'), (',', 'PUNCT'), ('yarın', 'NOUN'), ('Samandıra', 'PROPN'), (\"Tesisleri'nde\", 'NOUN'), ('Türk', 'NOUN'), ('Telekom', 'PROPN'), ('Lig', 'PROPN'), ('A', 'PROPN'), ('takımlarından', 'NOUN'), (\"Kocaelispor'la\", 'PROPN'), ('saat', 'NOUN'), (\"19.30'da\", 'NOUN'), ('bir', 'DET'), ('hazırlık', 'NOUN'), ('maçı', 'NOUN'), ('yapacak', 'VERB'), ('.', 'PUNCT')], [('Peki', 'ADV'), ('kim', 'PRON'), ('bu', 'DET'), ('küçük', 'ADJ'), ('ve', 'CCONJ'), ('basit', 'ADJ'), ('sebepleri', 'NOUN'), ('devleştirerek', 'VERB'), ('aramıza', 'NOUN'), ('sokup', 'VERB'), ('duruyor', 'AUX'), ('?', 'PUNCT')], [('Meşrutiyetin', 'PROPN'), ('ilanından', 'NOUN'), ('önceki', 'ADJ'), ('siyasi', 'ADJ'), ('faaliyetlere', 'NOUN'), ('katıldı', 'VERB'), ('.', 'PUNCT')], [('-', 'PUNCT'), ('Öger', 'PROPN'), ('Prodüksiyon', 'PROPN'), ('.', 'PUNCT')], [(\"'\", 'PUNCT'), ('Yalnız', 'ADV'), (',', 'PUNCT'), ('neden', 'ADV'), ('yaşamak', 'VERB'), ('ıstırap', 'NOUN'), ('verici', 'ADJ'), ('bir', 'DET'), ('şey', 'NOUN'), ('?', 'PUNCT')], [('1978', 'NUM'), ('yılında', 'NOUN'), (',', 'PUNCT'), ('Unesco', 'PROPN'), ('Yürütme', 'VERB'), (\"Kurulu'na\", 'NOUN'), (',', 'PUNCT'), (\"Türkiye'yi\", 'PROPN'), ('temsil', 'NOUN'), ('edecek', 'VERB'), ('üye', 'NOUN'), ('olarak', 'AUX'), ('seçilmiştim', '_'), ('seçilmiş', 'VERB'), ('tim', 'AUX'), ('.', 'PUNCT')], [('Yatağan', 'PROPN'), (',', 'PUNCT'), ('Milas', 'PROPN'), ('ve', 'CCONJ'), ('Akılcılık', 'PROPN'), ('...', 'PUNCT')], [('\"', 'PUNCT'), ('Yeni', 'ADV'), ('emekli', 'ADJ'), ('olmuş', 'VERB'), ('general', 'ADJ'), ('bir', 'DET'), ('dostum', 'NOUN'), (',', 'PUNCT'), ('taşındığı', 'VERB'), ('95', 'NUM'), ('metrekarelik', 'ADJ'), ('evinde', 'NOUN'), (',', 'PUNCT'), ('aldığı', 'VERB'), ('plaketleri', 'NOUN'), ('asacak', 'VERB'), ('duvar', 'NOUN'), ('bulamadığı', 'VERB'), ('gibi', 'ADP'), ('bunları', 'PRON'), ('yerleştirdiği', 'VERB'), ('sandıkları', 'NOUN'), ('koyacak', 'VERB'), ('yer', 'NOUN'), ('olmadığından', 'VERB'), ('yakındı', 'VERB'), (',', 'PUNCT'), (\"'\", 'PUNCT'), ('Ne', 'PRON'), ('yapayım', 'VERB'), ('?', 'PUNCT'), (\"'\", 'PUNCT'), ('dedi', 'VERB'), ('.', 'PUNCT'), ('\"', 'PUNCT')], [('Bu', 'DET'), ('işe', 'NOUN'), ('bir', 'DET'), ('çözüm', 'NOUN'), ('bulacağınızı', 'VERB'), ('ümit', 'NOUN'), ('ediyor', 'VERB'), ('saygılar', 'NOUN'), ('sunuyorum', 'VERB'), ('.', 'PUNCT')], [('1966', 'NUM'), ('yılında', 'NOUN'), ('Bafa', 'PROPN'), ('gölünün', 'NOUN'), ('kuzeyinde', 'NOUN'), ('yer', 'NOUN'), ('alan', 'VERB'), ('Kayalık', 'PROPN'), ('Beşparmak', 'PROPN'), ('dağlarına', 'NOUN'), ('tırmanıyorduk', '_'), ('tırmanıyor', 'VERB'), ('duk', 'AUX'), ('.', 'PUNCT')], [('Ama', 'CCONJ'), ('beni', 'PRON'), ('basketbol', 'NOUN'), ('takımına', 'NOUN'), ('almadılar', 'VERB'), ('.', 'PUNCT')], [('Bundan', 'PRON'), ('sonra', 'ADV'), ('\"', 'PUNCT'), ('çağdaş', 'ADJ'), ('olimpiyatlar', 'NOUN'), ('\"', 'PUNCT'), ('adıyla', 'NOUN'), ('anıldı', 'VERB'), ('.', 'PUNCT')], [('\"', 'PUNCT'), ('Müjdeler', 'NOUN'), ('var', 'NOUN'), ('yurdumun', 'NOUN'), ('toprağına', 'NOUN'), ('taşına', 'NOUN'), (',', 'PUNCT')], [('Onun', 'PRON'), ('için', 'ADP'), ('yol', 'NOUN'), ('arkadaşlarımızı', 'NOUN'), ('titizlikle', 'NOUN'), ('seçer', 'VERB'), (',', 'PUNCT'), ('kendilerini', 'PRON'), ('iyice', 'ADV'), ('sınarız', 'VERB'), ('.', 'PUNCT')], [('Savcı', 'NOUN'), (',', 'PUNCT'), ('petrol', 'NOUN'), ('tankerinin', 'NOUN'), ('Hintli', 'PROPN'), ('kaptanının', 'NOUN'), ('da', 'PART'), ('olayda', 'NOUN'), ('bir', 'DET'), ('ihmali', 'NOUN'), ('bulunup', 'VERB'), ('bulunmadığını', 'VERB'), ('araştırıyor', 'VERB'), ('.', 'PUNCT')], [('Kahvaltıya', 'NOUN'), ('kadar', 'ADP'), ('2', 'NUM'), ('saat', 'NOUN'), ('çalışırım', 'VERB'), ('.', 'PUNCT')], [('\"', 'PUNCT'), ('Neden', 'ADV'), ('?', 'PUNCT'), ('\"', 'PUNCT'), ('diye', 'ADP'), ('sordum', 'VERB'), ('.', 'PUNCT')], [('Bu', 'DET'), ('korkular', 'NOUN'), (',', 'PUNCT'), ('hayatımızın', 'NOUN'), ('çeşitli', 'ADJ'), ('dönemlerinde', 'NOUN'), ('değişiklikler', 'NOUN'), ('gösterebilir', 'VERB'), ('.', 'PUNCT')], [('Örneğin', 'ADV'), (',', 'PUNCT'), ('bu', 'DET'), ('alanda', 'NOUN'), ('Mars', 'PROPN'), (',', 'PUNCT'), ('bizi', 'PRON'), ('aşırı', 'ADV'), ('sahip', 'NOUN'), ('olmacı', 'ADJ'), ('biri', 'PRON'), ('yaparken', '_'), ('yapar', 'VERB'), ('ken', 'AUX'), (',', 'PUNCT'), ('miras', 'NOUN'), ('konusunda', 'NOUN'), ('engeller', 'NOUN'), ('çıkarabilir', 'VERB'), ('.', 'PUNCT')], [('Tapınakta', 'NOUN'), ('panik', 'NOUN'), ('var', 'NOUN')], [('Arabalarımıza', 'NOUN'), ('kartondan', 'NOUN'), ('garaj', 'NOUN'), ('yaparız', 'VERB'), ('.', 'PUNCT')], [('İçindeki', '_'), ('İçinde', 'NOUN'), ('ki', 'PART'), ('isimler', 'NOUN'), ('ve', 'CCONJ'), ('telefon', 'NOUN'), ('numaralarından', 'NOUN'), ('yola', 'NOUN'), ('çıkarak', 'VERB'), ('başka', 'ADJ'), ('operasyonlar', 'NOUN'), ('yaptık', 'VERB'), (',', 'PUNCT'), ('ama', 'CCONJ'), ('bunlar', 'PRON'), ('ayrı', 'ADJ'), ('bir', 'DET'), ('öykü', 'NOUN'), ('.', 'PUNCT'), ('\"', 'PUNCT')], [('İkisi', 'NUM'), ('de', 'PART'), (\"Türkiye'nin\", 'PROPN'), ('sevdalısı', 'NOUN'), ('.', 'PUNCT')], [('Tüm', 'DET'), ('dostlara', 'NOUN'), ('haber', 'NOUN'), ('ulaştıramadım', 'VERB'), (',', 'PUNCT'), ('ama', 'CCONJ'), ('kalan', 'VERB'), ('dostlar', 'NOUN'), ('her', 'DET'), ('şeyi', 'NOUN'), ('halletti', 'VERB'), ('.', 'PUNCT')], [('Her', 'DET'), ('istediklerini', 'VERB'), ('verirseniz', '_'), ('verir', 'VERB'), ('seniz', 'AUX'), ('kıymet', 'NOUN'), ('bilmezler', 'VERB'), (',', 'PUNCT'), ('üstelik', 'ADV'), ('hiçbir', 'DET'), ('şeyden', 'NOUN'), ('zevk', 'NOUN'), ('almaz', 'VERB'), ('olurlar', 'AUX'), ('.', 'PUNCT')], [('ABD', 'PROPN'), ('Başkanı', 'NOUN'), ('George', 'PROPN'), ('Bush', 'PROPN'), (',', 'PUNCT'), (\"Irak'taki\", '_'), (\"Irak'ta\", 'PROPN'), ('ki', 'PART'), ('Amerikan', 'PROPN'), ('birliklerinin', 'NOUN'), ('omuzlarındaki', '_'), ('omuzlarında', 'NOUN'), ('ki', 'PART'), ('yükün', 'NOUN'), (',', 'PUNCT'), ('sonbaharda', 'NOUN'), ('müttefiklerin', 'NOUN'), ('gelişiyle', 'VERB'), ('hafifleyeceğini', 'VERB'), ('söyledi', 'VERB'), ('.', 'PUNCT')], [('\"', 'PUNCT'), ('Bunu', 'PRON'), ('da', 'PART'), ('mı', 'AUX'), ('o', 'PRON'), ('yapmış', 'VERB'), ('?', 'PUNCT'), ('\"', 'PUNCT')], [('Yarım', 'ADJ'), ('greyfurt', 'NOUN'), ('günlük', 'ADJ'), ('C', 'NOUN'), ('vitamini', 'NOUN'), ('ihtiyacının', 'NOUN'), ('yüzde', 'NUM'), ('altmışını', 'NUM'), ('sağlar', 'VERB'), ('.', 'PUNCT')], [('1', 'NUM'), ('yemek', 'NOUN'), ('kaşığı', 'NOUN'), ('zeytinyağı', 'NOUN')], [('Yan', 'ADJ'), ('tarafında', 'NOUN'), ('da', 'PART'), ('kocaman', 'ADJ'), ('bir', 'DET'), ('kavanoz', 'NOUN'), ('.', 'PUNCT')], [('O', 'DET'), ('hanımı', 'NOUN'), ('asistan', 'NOUN'), ('yaptılar', 'VERB'), ('.', 'PUNCT')], [('Mini', 'ADJ'), ('dizüstünde', 'NOUN'), ('3N', 'NOUN'), ('dopingi', 'NOUN')], [('Ama', 'CCONJ'), ('hayatta', 'NOUN'), ('her', 'DET'), ('şey', 'NOUN'), ('bizim', 'PRON'), ('istediğimiz', 'VERB'), ('gibi', 'ADP'), ('olmuyor', 'VERB'), ('.', 'PUNCT')], [('Öyleyse', 'ADV'), (',', 'PUNCT'), ('ben', 'PRON'), ('bir', 'DET'), ('İspanyol', 'PROPN'), ('olduğum', 'AUX'), ('kadar', 'ADP'), ('dünyalıyım', '_'), ('dünyalı', 'NOUN'), ('yım', 'AUX'), ('da', 'PART'), ('.', 'PUNCT')], [('Bu', 'DET'), ('yaş', 'NOUN'), ('diliminin', 'NOUN'), ('en', 'ADV'), ('az', 'ADV'), ('çalışanları', 'VERB'), ('ise', 'PART'), ('Slovakya', 'PROPN'), (',', 'PUNCT'), ('Belçika', 'PROPN'), ('ve', 'CCONJ'), (\"Fransa'da\", 'PROPN'), ('.', 'PUNCT')], [('Bunu', 'PRON'), ('umuyoruz', 'VERB'), ('.', 'PUNCT')], [('Bu', 'DET'), ('kararla', 'NOUN'), ('polise', 'NOUN'), ('ve', 'CCONJ'), ('savcılıklara', 'NOUN'), ('bu', 'DET'), ('yönde', 'NOUN'), ('yapılan', 'VERB'), ('şikâyetlerin', 'NOUN'), ('de', 'PART'), ('azalacağı', 'VERB'), ('belirtildi', 'VERB'), ('.', 'PUNCT')], [('Moby', 'PROPN'), (\"Dick'e\", 'PROPN'), ('aldığım', 'VERB'), ('sarı', 'ADJ'), ('boya', 'NOUN'), ('inceltmek', 'VERB'), ('için', 'ADP'), ('ne', 'CCONJ'), ('gaz', 'NOUN'), (',', 'PUNCT'), ('ne', 'CCONJ'), ('benzin', 'NOUN'), (',', 'PUNCT'), ('hiçbir', 'DET'), ('şey', 'NOUN'), ('kabul', 'NOUN'), ('etmiyordu', '_'), ('etmiyor', 'VERB'), ('du', 'AUX'), ('.', 'PUNCT')], [('Telsiz', 'NOUN'), (',', 'PUNCT'), ('sürekli', 'ADV'), ('olarak', 'AUX'), ('işliyor', 'VERB'), (',', 'PUNCT'), ('tamamlayıcı', 'ADJ'), ('haberler', 'NOUN'), ('geliyor', 'VERB'), (',', 'PUNCT'), ('buyruklar', 'NOUN'), ('yerine', 'NOUN'), ('ulaşıyordu', '_'), ('ulaşıyor', 'VERB'), ('du', 'AUX'), ('.', 'PUNCT')], [('1', 'NUM'), ('kutu', 'NOUN'), ('ançüez', 'NOUN')], [('Dünyaca', 'ADV'), ('ünlü', 'ADJ'), ('obuacı', 'NOUN'), ('oturup', 'VERB'), ('bir', 'DET'), ('süre', 'NOUN'), ('dinledi', 'VERB'), (',', 'PUNCT'), ('sonra', 'ADV'), ('solisti', 'NOUN'), ('tanımak', 'VERB'), ('istediğini', 'VERB'), ('söyledi', 'VERB'), ('.', 'PUNCT')], [('O', 'PRON'), (',', 'PUNCT'), ('öncelikle', 'ADV'), ('çok', 'ADV'), ('büyük', 'ADJ'), ('bir', 'DET'), ('asker', 'NOUN'), ('ve', 'CCONJ'), ('komutandır', 'NOUN'), ('.', 'PUNCT')], [('Çocuklardan', 'NOUN'), ('biri', 'PRON'), (',', 'PUNCT')], [('Köylülerin', 'NOUN'), ('çoğu', 'PRON'), ('evlere', 'NOUN'), ('girmemişti', '_'), ('girmemiş', 'VERB'), ('ti', 'AUX'), (';', 'PUNCT'), ('çünkü', 'SCONJ'), ('söylediklerine', 'VERB'), ('göre', 'ADP'), ('ısınamıyorlardı', '_'), ('ısınamıyorlar', 'VERB'), ('dı', 'AUX'), ('.', 'PUNCT')], [('Sesleri', 'NOUN'), ('duyan', 'VERB'), (',', 'PUNCT'), ('şirkete', 'NOUN'), ('yeni', 'ADV'), ('girmiş', 'VERB'), ('kaptan', 'NOUN'), (',', 'PUNCT'), ('şaşkın', 'ADJ'), ('ve', 'CCONJ'), ('ürkek', 'ADJ'), ('bir', 'DET'), ('ifadeyle', 'NOUN'), ('boxerını', 'PROPN'), ('çekiştirerek', 'VERB'), ('tuvaletten', 'NOUN'), ('fırladı', 'VERB'), ('.', 'PUNCT')], [('Alelacele', 'ADV'), ('el', 'NOUN'), ('edip', 'VERB'), ('durdurdum', 'VERB'), ('ve', 'CCONJ'), ('bindik', 'VERB'), ('.', 'PUNCT')], [('Sarı', 'ADJ'), (',', 'PUNCT'), ('beyaz', 'ADJ'), (',', 'PUNCT'), ('pembe', 'ADJ'), ('renkli', 'ADJ'), ('cinsleri', 'NOUN'), ('içinde', 'NOUN'), ('en', 'ADV'), ('çok', 'ADV'), ('beyazı', 'NOUN'), ('sevilir', 'VERB'), ('.', 'PUNCT')], [('Dünyada', 'NOUN'), ('uluslararası', 'ADJ'), ('duruma', 'NOUN'), ('göre', 'ADP'), ('böyle', 'ADJ'), ('bir', 'DET'), ('mücadelenin', 'NOUN'), ('gerektirdiği', 'VERB'), ('manevi', 'ADJ'), ('unsurlara', 'NOUN'), ('sahip', 'NOUN'), ('olmayan', 'VERB'), ('kişiler', 'NOUN'), ('ve', 'CCONJ'), ('bu', 'DET'), ('nitelikte', 'NOUN'), ('kişilerden', 'NOUN'), ('oluşan', 'VERB'), ('toplumlara', 'NOUN'), ('hayat', 'NOUN'), ('ve', 'CCONJ'), ('bağımsızlık', 'NOUN'), ('yoktur', '_'), ('yok', 'NOUN'), ('tur', 'AUX'), ('.', 'PUNCT')], [('Ancak', 'CCONJ'), ('\"', 'PUNCT'), ('pet', 'PROPN'), ('therapist', 'PROPN'), ('\"', 'PUNCT'), ('i', 'PART'), ('size', 'PRON'), ('tanıtmadan', 'VERB'), ('geçemeyeceğim', 'VERB'), ('.', 'PUNCT')], [(\"Kadıköy'de\", 'PROPN'), (\"İstanbul'un\", 'PROPN'), ('Musevi', 'PROPN'), ('gençleri', 'NOUN'), (',', 'PUNCT'), ('Bobi', 'PROPN'), ('takma', 'ADJ'), ('adıyla', 'NOUN'), ('sahaya', 'NOUN'), ('çıkan', 'VERB'), ('ilk', 'ADJ'), ('Türk', 'PROPN'), ('futbolcusu', 'NOUN'), ('Fuat', 'PROPN'), ('Hüsnü', 'PROPN'), (',', 'PUNCT'), ('Büyük', 'ADJ'), ('Hasan', 'PROPN'), ('ve', 'CCONJ'), ('Dalaklı', 'PROPN'), ('Hüseyin', 'PROPN'), ('gibi', 'ADP'), ('isimler', 'NOUN'), ('de', 'PART'), ('forma', 'NOUN'), ('giydiler', 'VERB'), ('.', 'PUNCT')], [('İsrailli', 'PROPN'), ('yetkililerin', 'NOUN'), ('daha', 'ADV'), ('önce', 'ADV'), ('yaptıkları', 'VERB'), ('açıklamalarda', 'NOUN'), (',', 'PUNCT'), ('sınırın', 'NOUN'), ('İsrail', 'PROPN'), ('tarafına', 'NOUN'), ('gönderilen', 'VERB'), ('bazı', 'DET'), ('füzelerin', 'NOUN'), ('Suriye', 'PROPN'), ('tarafından', 'NOUN'), ('tahsis', 'NOUN'), ('edildiği', 'VERB'), ('ileri', 'ADV'), ('sürülürken', '_'), ('sürülür', 'VERB'), ('ken', 'AUX'), (',', 'PUNCT'), ('İsrail', 'PROPN'), ('Başbakanı', 'NOUN'), ('Ehud', 'PROPN'), (\"Olmert'in\", 'PROPN'), (',', 'PUNCT'), ('\"', 'PUNCT'), (\"Hizbullah'ı\", 'PROPN'), ('destekliyor', 'VERB'), ('\"', 'PUNCT'), ('diyerek', 'VERB'), (\"İran'ı\", 'PROPN'), ('da', 'PART'), ('suçlaması', 'VERB'), (',', 'PUNCT'), ('sona', 'NOUN'), ('erdirilmesi', 'VERB'), ('beklenen', 'VERB'), ('sorunun', 'NOUN'), ('daha', 'ADV'), ('büyük', 'ADJ'), ('bir', 'DET'), ('coğrafyaya', 'NOUN'), ('yayılabileceği', 'VERB'), ('kaygısını', 'NOUN'), ('uyandırıyor', 'VERB'), ('.', 'PUNCT')], [('Ne', 'PRON'), ('kadar', 'ADP'), ('düşünürsem', '_'), ('düşünür', 'VERB'), ('sem', 'AUX'), ('düşüneyim', 'VERB'), (',', 'PUNCT'), ('televizyonda', 'NOUN'), ('izlediklerimden', 'VERB'), ('başka', 'ADJ'), ('bir', 'DET'), ('fikir', 'NOUN'), ('gelmiyor', 'VERB'), ('aklıma', 'NOUN'), ('.', 'PUNCT')], [('Bence', 'PRON'), ('anne', 'NOUN'), ('babalar', 'NOUN'), ('da', 'PART'), ('tam', 'ADV'), ('olarak', 'AUX'), ('bilmiyordu', '_'), ('bilmiyor', 'VERB'), ('du', 'AUX'), ('niye', 'ADV'), ('olduğunu', 'VERB'), ('.', 'PUNCT')], [('Atkuyruğu', 'NOUN'), ('(', 'PUNCT'), ('zemberekotu', 'NOUN'), (')', 'PUNCT')], [(\"1925'in\", 'NUM'), ('ilk', 'ADJ'), ('yarısından', 'NOUN'), ('itibaren', 'ADP'), (',', 'PUNCT'), (\"Türkiye'de\", 'PROPN'), ('muhalefete', 'NOUN'), ('ve', 'CCONJ'), ('dolayısıyla', 'ADV'), ('siyasete', 'NOUN'), ('yaşama', 'VERB'), ('hakkı', 'NOUN'), ('tanınmamıştır', 'VERB'), ('.', 'PUNCT')], [('Ancak', 'CCONJ'), ('saldırıyı', 'NOUN'), ('henüz', 'ADV'), ('üstlenen', 'VERB'), ('olmadı', 'VERB'), ('.', 'PUNCT')], [('\"', 'PUNCT'), ('Grubumuz', 'NOUN'), (',', 'PUNCT'), ('190', 'NUM'), ('oyla', 'NOUN'), ('bir', 'DET'), ('Meclis', 'NOUN'), ('Başkanı', 'NOUN'), ('seçiminde', 'NOUN'), ('etkin', 'ADJ'), ('olamadığımızı', 'VERB'), ('düşündüğü', 'VERB'), ('anda', 'NOUN'), (',', 'PUNCT'), ('eğer', 'SCONJ'), (\"Meclis'in\", 'NOUN'), ('çalışmaya', 'VERB'), ('başlamasını', 'VERB'), ('sağlamak', 'VERB'), ('ve', 'CCONJ'), (\"Anayasa'nın\", 'NOUN'), (\"84'ncü\", 'NUM'), ('maddesinin', 'NOUN'), ('(', 'PUNCT'), ('bu', 'DET'), ('madde', 'NOUN'), ('başkanlık', 'NOUN'), ('divanında', 'NOUN'), ('partilerin', 'NOUN'), ('oyları', 'NOUN'), ('oranında', 'NOUN'), ('temsil', 'NOUN'), ('edilmesini', 'VERB'), ('öngörüyordu', '_'), ('öngörüyor', 'VERB'), ('du', 'AUX'), (')', 'PUNCT'), ('işlerliğinden', 'NOUN'), ('vazgeçmek', 'VERB'), ('ve', 'CCONJ'), ('1961', 'NUM'), ('yılından', 'NOUN'), ('beri', 'ADP'), ('uygulanmakta', 'VERB'), ('olan', 'AUX'), ('centilmenlik', 'NOUN'), ('anlaşmasından', 'NOUN'), ('da', 'PART'), ('vazgeçilmesine', 'VERB'), ('razı', 'ADJ'), ('olmak', 'VERB'), ('gibi', 'ADP'), ('üç', 'NUM'), ('ihtimalden', 'NOUN'), ('birini', 'NUM'), ('kabul', 'NOUN'), ('etseydik', '_'), ('etse', 'VERB'), ('ydik', 'AUX'), (',', 'PUNCT'), ('bugün', 'NOUN'), (\"Meclis'in\", 'NOUN'), ('belki', 'ADV'), ('bir', 'DET'), ('başkanı', 'NOUN'), ('olurdu', '_'), ('olur', 'VERB'), ('du', 'AUX'), ('.', 'PUNCT')], [('Dik', 'ADV'), ('dik', 'ADV'), ('yüzüne', 'NOUN'), ('baktı', 'VERB'), ('.', 'PUNCT')], [('Bütün', 'ADJ'), ('bir', 'DET'), ('günü', 'NOUN'), ('çalışmadan', 'VERB'), ('büyük', 'ADJ'), ('bir', 'DET'), ('sessizlik', 'NOUN'), ('içerisinde', 'NOUN'), ('geçirdik', '_'), ('geçir', 'VERB'), ('dik', 'AUX'), ('.', 'PUNCT')], [('O', 'DET'), ('zamanlar', 'NOUN'), (\"Kadifekale'de\", 'PROPN'), ('otururlarmış', '_'), ('otururlar', 'VERB'), ('mış', 'AUX'), ('.', 'PUNCT')], [('Fazla', 'NOUN'), ('sayıda', 'NOUN'), ('olmamakla', 'VERB'), ('birlikte', 'ADV'), ('bazı', 'DET'), ('kadınlar', 'NOUN'), ('da', 'PART'), ('orgazm', 'NOUN'), ('sırasında', 'NOUN'), ('boşalırlar', 'VERB'), ('.', 'PUNCT')], [(\"Türkiye'de\", 'PROPN'), ('hassasiyetlerimiz', 'NOUN'), ('var', 'NOUN'), ('.', 'PUNCT')], [('Sular', 'NOUN'), ('yaşıyor', 'VERB'), ('yanımda', 'NOUN')], [('Bu', 'DET'), ('stratejinin', 'NOUN'), ('ortaya', 'ADJ'), ('konulacağını', 'VERB'), (\"Hürriyet'te\", 'PROPN'), ('ilk', 'ADV'), ('ben', 'PRON'), ('yazmıştım', '_'), ('yazmış', 'VERB'), ('tım', 'AUX'), ('ve', 'CCONJ'), ('yazdıklarım', 'VERB'), ('da', 'PART'), ('olduğu', 'VERB'), ('gibi', 'ADP'), ('çıkmıştı', '_'), ('çıkmış', 'VERB'), ('tı', 'AUX'), ('.', 'PUNCT')], [('Benim', 'PRON'), ('için', 'ADP'), ('gerçek', 'ADJ'), ('anlamda', 'NOUN'), ('trajik', 'ADJ'), ('bir', 'DET'), ('olaya', 'NOUN'), ('dönüşmüş', 'VERB'), ('.', 'PUNCT')], [('-', 'PUNCT'), ('Üç', 'NUM'), ('demir', 'ADJ'), ('çubuk', 'NOUN'), ('bulup', 'VERB'), ('getirin', 'VERB'), (',', 'PUNCT'), ('dedi', 'VERB'), ('.', 'PUNCT')], [('Rehberimiz', 'NOUN'), ('yılların', 'NOUN'), ('verdiği', 'VERB'), ('ustalıkla', 'NOUN'), (',', 'PUNCT'), ('önünde', 'NOUN'), ('durduğumuz', 'VERB'), ('her', 'DET'), ('yapı', 'NOUN'), ('hakkında', 'NOUN'), ('bilgi', 'NOUN'), ('veriyor', 'VERB'), ('bize', 'PRON'), ('.', 'PUNCT')], [('Hiç', 'ADV'), ('ağrı', 'NOUN'), (',', 'PUNCT'), ('çürük', 'NOUN'), ('yok', 'NOUN'), (',', 'PUNCT')], [('Salt', 'ADV'), ('yargı', 'NOUN'), ('önüne', 'NOUN'), ('çıkarılmasın', 'VERB'), ('diye', 'ADP'), ('partisini', 'NOUN'), ('bağlayıp', 'VERB'), (',', 'PUNCT'), ('paketleyip', 'VERB'), ('Refah', 'PROPN'), (\"Partisi'ne\", 'NOUN'), ('rehin', 'NOUN'), ('bırakan', 'VERB'), ('Bayan', 'NOUN'), ('Çiller', 'PROPN'), ('ödülünü', 'NOUN'), ('alıyor', 'VERB'), ('.', 'PUNCT')], [('Panik', 'NOUN'), (',', 'PUNCT'), ('korku', 'NOUN'), (',', 'PUNCT'), ('acı', 'NOUN'), (',', 'PUNCT'), ('ürkek', 'ADJ'), ('ve', 'CCONJ'), ('donuk', 'ADJ'), ('bakışlar', 'VERB'), (',', 'PUNCT')], [('Yalnız', 'ADV'), ('kaldığında', 'VERB'), ('da', 'PART'), ('baktığından', 'VERB'), ('şüpheliyim', 'NOUN'), ('.', 'PUNCT')], [('Bayrama', 'VERB'), ('katılmak', 'VERB'), ('zorunludur', 'ADJ'), (';', 'PUNCT'), ('katılmayan', 'VERB'), (',', 'PUNCT'), ('köy', 'NOUN'), ('halkınca', 'NOUN'), ('dışlanır', 'VERB'), ('.', 'PUNCT')], [(\"Pamukkale'nin\", 'PROPN'), ('yanında', 'NOUN'), ('kule', 'NOUN'), ('gibi', 'ADP'), ('görünüşleri', 'NOUN'), ('ile', 'CCONJ'), ('Peri', 'PROPN'), ('Bacaları', 'NOUN'), ('karşılıyor', 'VERB'), ('ve', 'CCONJ'), ('sanki', 'ADV'), ('her', 'DET'), ('bir', 'DET'), ('baca', 'NOUN'), ('başındaki', '_'), ('başında', 'NOUN'), ('ki', 'PART'), ('komik', 'ADJ'), ('şapkası', 'NOUN'), ('ile', 'CCONJ'), ('bizlere', 'PRON'), ('gülümsüyor', 'VERB'), ('.', 'PUNCT')], [('Onu', 'PRON'), ('tutacak', 'VERB'), ('kimse', 'PRON'), ('yok', 'NOUN'), ('ki', 'PART'), ('!', 'PUNCT')], [(\"Japonya'nın\", 'PROPN'), ('dağarcığında', 'NOUN'), ('iki', 'NUM'), ('de', 'PART'), ('kış', 'NOUN'), ('olimpiyatı', 'NOUN'), ('ev', 'NOUN'), ('sahipliği', 'NOUN'), ('vardı', '_'), ('var', 'NOUN'), ('dı', 'AUX'), ('.', 'PUNCT')], [('Benim', 'PRON'), ('için', 'ADP'), ('de', 'PART'), ('takım', 'NOUN'), ('elbiselere', 'NOUN'), ('baktık', 'VERB'), ('.', 'PUNCT')], [('Oyak', 'PROPN'), ('Renault', 'PROPN'), ('Genel', 'ADJ'), ('Müdürü', 'NOUN'), ('Alain', 'PROPN'), ('Gabillet', 'PROPN'), ('ise', 'PART'), (',', 'PUNCT'), (\"Renault'nun\", 'PROPN'), ('üretiminin', 'NOUN'), ('geçen', 'ADJ'), ('yıl', 'NOUN'), ('yüzde', 'NUM'), (\"50'ye\", 'NUM'), ('yakın', 'ADJ'), ('oranda', 'NOUN'), ('artarak', 'VERB'), (',', 'PUNCT'), ('197', 'NUM'), ('bin', 'NUM'), ('353', 'NUM'), ('adede', 'NOUN'), ('çıktığını', 'VERB'), (',', 'PUNCT'), ('böylece', 'ADV'), ('rekor', 'NOUN'), ('kırdıklarını', 'VERB'), ('söyledi', 'VERB'), ('.', 'PUNCT')], [('Bu', 'DET'), ('korku', 'NOUN'), ('fırsatçılığı', 'NOUN'), ('sayesinde', 'NOUN'), ('dünyanın', 'NOUN'), ('en', 'ADV'), ('zengin', 'ADJ'), ('enerji', 'NOUN'), ('bölgeleri', 'NOUN'), ('işgal', 'NOUN'), ('edilmedi', 'VERB'), ('mi', 'AUX'), ('?', 'PUNCT')], [('On', 'NUM'), ('bir', 'NUM'), ('adım', 'NOUN'), ('saydı', 'VERB'), ('.', 'PUNCT')], [('Sağ', 'ADJ'), ('olanlar', 'AUX'), ('hele', 'ADV'), ('gençler', 'NOUN'), ('hastanın', 'NOUN'), ('halinden', 'NOUN'), ('anlamıyordu', '_'), ('anlamıyor', 'VERB'), ('du', 'AUX'), ('.', 'PUNCT')], [('Ve', 'CCONJ'), ('işte', 'ADV'), ('o', 'PRON'), (',', 'PUNCT'), ('beni', 'PRON'), ('kahreden', 'VERB'), (',', 'PUNCT'), ('somurtganlaştıran', 'VERB'), (',', 'PUNCT'), ('saatlerce', 'ADV'), ('ağlatan', 'VERB'), (',', 'PUNCT'), ('gözyaşlarıyla', 'NOUN'), ('dolu', 'ADJ'), ('...', 'PUNCT')], [('Bunun', 'PRON'), ('için', 'ADP'), (',', 'PUNCT'), ('\"', 'PUNCT'), ('Vajina', 'NOUN'), ('Bölgesi', 'NOUN'), ('\"', 'PUNCT'), ('tabiri', 'NOUN'), ('daha', 'ADV'), ('doğru', 'ADJ'), ('olur', 'AUX'), ('.', 'PUNCT')], [('Ben', 'PRON'), ('hapşırdığım', 'VERB'), ('zaman', 'NOUN'), ('ablam', 'NOUN'), ('çok', 'ADV'), ('güler', 'VERB'), ('.', 'PUNCT')], [('islamiyetgercekleri.org', 'PROPN')], [('Bal', 'NOUN'), (',', 'PUNCT'), ('ana', 'ADJ'), ('maddesini', 'NOUN'), ('teşkil', 'NOUN'), ('eden', 'VERB'), ('meyve', 'NOUN'), ('şekeri', 'NOUN'), ('sayesinde', 'NOUN'), ('şeker', 'NOUN'), ('kamışından', 'NOUN'), ('hemen', 'ADV'), ('hemen', 'ADV'), ('iki', 'NUM'), ('misli', 'ADV'), ('daha', 'ADV'), ('tatlıdır', 'ADJ'), ('.', 'PUNCT')], [(\"Sevgi'nin\", 'PROPN'), ('TRT', 'PROPN'), ('yarışmasına', 'NOUN'), ('gönderdiği', 'VERB'), ('Yürümek', 'PROPN'), ('romanını', 'NOUN'), ('sevdim', 'VERB'), ('.', 'PUNCT')], [('Yerli', 'ADJ'), ('kadınlar', 'NOUN'), ('sac', 'NOUN'), ('üzerinde', 'NOUN'), ('kızartılan', 'VERB'), ('yassı', 'ADJ'), ('ekmeklerin', 'NOUN'), ('pişirilmesini', 'VERB'), ('gösteriyorlar', 'VERB'), ('.', 'PUNCT')], [('Aynı', 'ADJ'), ('roman', 'NOUN'), ('Tunç', 'PROPN'), ('Okan', 'PROPN'), ('tarafından', 'NOUN'), ('sinemaya', 'NOUN'), ('uyarlandı', 'VERB'), ('(', 'PUNCT'), ('1993', 'NUM'), (')', 'PUNCT'), ('.', 'PUNCT')], [('Gündüz', 'PROPN'), ('Sevilgen', 'PROPN'), ('adlı', 'ADJ'), (',', 'PUNCT'), (\"MSP'li\", 'ADJ'), ('mühendis', 'NOUN'), (',', 'PUNCT'), (\"CHP'ye\", 'PROPN'), ('yönelttiği', 'VERB'), ('suçlamalarda', 'NOUN'), (',', 'PUNCT'), ('partisi', 'NOUN'), ('için', 'ADP'), ('ün', 'NOUN'), ('yapmaya', 'VERB'), ('başlamıştı', '_'), ('başlamış', 'VERB'), ('tı', 'AUX'), ('bile', 'ADV'), ('.', 'PUNCT')], [('\"', 'PUNCT'), ('Anlaşıldı', 'VERB'), (',', 'PUNCT'), ('tamam', 'INTJ'), ('.', 'PUNCT'), ('\"', 'PUNCT')], [('Kriz', 'NOUN'), ('merkezine', 'NOUN'), ('gelen', 'VERB'), ('bir', 'DET'), ('ihbar', 'NOUN'), ('üzerine', 'NOUN'), (',', 'PUNCT'), ('deponun', 'NOUN'), ('sorumluluğu', 'NOUN'), ('Kocaeli', 'PROPN'), ('Üniversitesi', 'NOUN'), ('Tıp', 'NOUN'), ('Fakültesi', 'NOUN'), ('personeline', 'NOUN'), ('devredildi', 'VERB'), ('.', 'PUNCT')], [('Tilki', 'NOUN'), (',', 'PUNCT'), ('sanki', 'ADV'), ('bir', 'DET'), ('an', 'NOUN'), (\"Ceren'e\", 'PROPN'), ('gülümsedi', 'VERB'), ('.', 'PUNCT')], [('Yayıncılar', 'NOUN'), (',', 'PUNCT'), ('editörler', 'NOUN'), (',', 'PUNCT'), ('şaşılacak', 'VERB'), ('şey', 'NOUN'), (',', 'PUNCT'), ('röntgen', 'NOUN'), ('gibi', 'ADP'), ('biliyorlar', 'VERB'), ('birbirlerini', 'PRON'), ('...', 'PUNCT')], [('Profesyonel', 'ADJ'), ('liglerde', 'NOUN'), ('takımı', 'NOUN'), ('bulunmayan', 'VERB'), ('illerin', 'NOUN'), ('1', 'NUM'), ('.', 'PUNCT')], [('Yenilikleri', 'NOUN'), ('yakından', 'NOUN'), ('izliyordu', '_'), ('izliyor', 'VERB'), ('du', 'AUX'), (';', 'PUNCT'), (\"1974'te\", 'NUM'), ('disco', 'PROPN'), ('music', 'PROPN'), ('akımına', 'NOUN'), ('kapılmış', 'VERB'), ('gördük', 'VERB'), (\"Dalida'yı\", 'PROPN'), ('.', 'PUNCT')]]\n"
     ]
    }
   ],
   "source": [
    "print(posTags[0:100])"
   ]
  },
  {
   "cell_type": "code",
   "execution_count": 23,
   "id": "69f8c5aa",
   "metadata": {},
   "outputs": [
    {
     "name": "stdout",
     "output_type": "stream",
     "text": [
      "{'<PAD>': 0, '<UNK>': 1, '<NUM>': 2, '<_>': 3, '<NOUN>': 4, '<AUX>': 5, '<PUNCT>': 6, '<ADV>': 7, '<PRON>': 8, '<VERB>': 9, '<DET>': 10, '<PROPN>': 11, '<ADJ>': 12, '<CCONJ>': 13, '<ADP>': 14, '<PART>': 15, '<SCONJ>': 16, '<INTJ>': 17, '<X>': 18}\n"
     ]
    }
   ],
   "source": [
    "print(posDict)"
   ]
  },
  {
   "cell_type": "code",
   "execution_count": 24,
   "id": "b1dfb5cc",
   "metadata": {},
   "outputs": [],
   "source": [
    "# Parse the training and validation data files using the `parse_file` function\n",
    "training_data = parse_file(\"./dataset/train.conllu\")\n",
    "validation_data = parse_file(\"./dataset/val.conllu\")\n",
    "\n",
    "\n",
    "# Build the vocabulary for the training data using the `build_vocab` function\n",
    "# The `build_vocab` function returns two dictionaries:\n",
    "#   - `word_to_idx`: maps words to their index in the vocabulary\n",
    "#   - `pos_to_idx`: maps POS tags to their index in the vocabulary\n",
    "word_to_idx, pos_to_idx = build_vocab(training_data)"
   ]
  },
  {
   "cell_type": "code",
   "execution_count": 25,
   "id": "fecd2759",
   "metadata": {},
   "outputs": [],
   "source": [
    "#Helper functions to convert between indices and human-readable format. You don't need to do anything here.\n",
    "#Just reading and making sure you understand what's going on is enough.\n",
    "\n",
    "idx_to_word = {idx: word for word, idx in word_to_idx.items()}\n",
    "idx_to_pos = {idx: pos for pos, idx in pos_to_idx.items()}\n",
    "\n",
    "def convert_idx_to_words(indices: torch.tensor) -> str:\n",
    "    \"\"\"Converts a sequence of word indices to a human-readable format.\n",
    "    \n",
    "    Args:\n",
    "        indices (torch.tensor): A sequence of word indices.\n",
    "    \n",
    "    Returns:\n",
    "        str: A string representation of the sequence of words.\n",
    "    \"\"\"\n",
    "    return \" \".join([idx_to_word[idx.item()] for idx in indices])\n",
    "\n",
    "def convert_idx_to_pos(indices: torch.tensor) -> str:\n",
    "    \"\"\"Converts a sequence of POS tag indices to a human-readable format.\n",
    "    \n",
    "    Args:\n",
    "        indices (torch.tensor): A sequence of POS tag indices.\n",
    "    \n",
    "    Returns:\n",
    "        str: A string representation of the sequence of POS tags.\n",
    "    \"\"\"\n",
    "    return \" \".join([idx_to_pos[idx.item()] for idx in indices])"
   ]
  },
  {
   "cell_type": "code",
   "execution_count": 26,
   "id": "d8330e9f",
   "metadata": {},
   "outputs": [
    {
     "data": {
      "text/plain": [
       "'<PAD> <UNK> 1936 yılındayız'"
      ]
     },
     "execution_count": 26,
     "metadata": {},
     "output_type": "execute_result"
    }
   ],
   "source": [
    "word_indices = torch.tensor([0, 1, 2, 3], dtype=torch.long)\n",
    "\n",
    "convert_idx_to_words(word_indices)\n"
   ]
  },
  {
   "cell_type": "code",
   "execution_count": 27,
   "id": "43298805",
   "metadata": {},
   "outputs": [
    {
     "data": {
      "text/plain": [
       "'<PAD> <UNK> <NUM> <_>'"
      ]
     },
     "execution_count": 27,
     "metadata": {},
     "output_type": "execute_result"
    }
   ],
   "source": [
    "convert_idx_to_pos(word_indices)"
   ]
  },
  {
   "cell_type": "code",
   "execution_count": 28,
   "id": "851cf6d7",
   "metadata": {},
   "outputs": [],
   "source": [
    "# Helper function used for minibatching. You don't need to do anything here. Just reading and making sure you understand what's going on is enough.\n",
    "\n",
    "def collate_batch(batch):\n",
    "    \"\"\"\n",
    "    This function collates a batch of sentences into a padded tensor that can be processed by the model.\n",
    "\n",
    "    Arguments:\n",
    "\n",
    "    batch: a list of tuples where each tuple contains a sentence and its corresponding POS tags.\n",
    "    Returns:\n",
    "\n",
    "    A tuple of two padded tensors: one containing the text data and the other containing the POS tags.\n",
    "    \"\"\"\n",
    "    \n",
    "    tag_list, text_list = [], []\n",
    "    for (line, label) in batch:\n",
    "        text_list.append(line)\n",
    "        tag_list.append(label)\n",
    "        \n",
    "    return (\n",
    "        pad_sequence(text_list, padding_value=word_to_idx['<PAD>']).t(),\n",
    "        pad_sequence(tag_list, padding_value=pos_to_idx['<PAD>']).t()\n",
    "    )\n",
    "\n",
    "#I havve transposed the outputs since old function do not store sentences in single tensors,\n",
    "#sentence indexes are columns but it will be better to pass them as rows. Also accuracy goes from %93 to %99.5\n",
    "#since storing sentences in single sensors allows to capture context of sentences better.\n"
   ]
  },
  {
   "cell_type": "code",
   "execution_count": 29,
   "id": "5f0ea1e8",
   "metadata": {},
   "outputs": [],
   "source": [
    "\n",
    "batch_data = [\n",
    "    (torch.tensor([1, 2, 3, 4]), torch.tensor([1, 2, 1, 2])),  # (sentence, POS tags)\n",
    "    (torch.tensor([5, 6, 7]), torch.tensor([3, 1, 2])),\n",
    "    (torch.tensor([8, 9]), torch.tensor([1, 3]))\n",
    "]\n",
    "\n",
    "text_tensor, pos_tensor = collate_batch(batch_data)"
   ]
  },
  {
   "cell_type": "code",
   "execution_count": 30,
   "id": "d47210f9",
   "metadata": {},
   "outputs": [
    {
     "data": {
      "text/plain": [
       "tensor([[1, 2, 1, 2],\n",
       "        [3, 1, 2, 0],\n",
       "        [1, 3, 0, 0]])"
      ]
     },
     "execution_count": 30,
     "metadata": {},
     "output_type": "execute_result"
    }
   ],
   "source": [
    "pos_tensor"
   ]
  },
  {
   "cell_type": "code",
   "execution_count": 31,
   "id": "af202881",
   "metadata": {},
   "outputs": [
    {
     "data": {
      "text/plain": [
       "tensor([[1, 2, 3, 4],\n",
       "        [5, 6, 7, 0],\n",
       "        [8, 9, 0, 0]])"
      ]
     },
     "execution_count": 31,
     "metadata": {},
     "output_type": "execute_result"
    }
   ],
   "source": [
    "text_tensor"
   ]
  },
  {
   "cell_type": "code",
   "execution_count": 32,
   "id": "d218c20f",
   "metadata": {},
   "outputs": [],
   "source": [
    "### Build Vocabulary"
   ]
  },
  {
   "cell_type": "code",
   "execution_count": 33,
   "id": "6fd226af",
   "metadata": {},
   "outputs": [],
   "source": [
    "class POSDataset(Dataset):\n",
    "    \"\"\"\n",
    "    A class representing a Part-Of-Speech (POS) tagging dataset, which inherits from PyTorch's Dataset class.\n",
    "    You need to four methods for this class:\n",
    "    - __init__: Initializes the dataset object.\n",
    "    - __len__: Returns the number of sentences in the dataset.\n",
    "    - __getitem__: Returns the i-th sentence in the dataset.\n",
    "    - vocab_lookup: Converts a sentence represented as a list of word/POS-tag pairs (tuples) to a pair of PyTorch tensors \n",
    "                    representing the corresponding sequences of word and POS tag indices. Out of vocabulary words are\n",
    "                    represented by the index of the \"<UNK>\" token.\n",
    "    \"\"\"\n",
    "\n",
    "    def __init__(self, data: List[List[Tuple[str, str]]], word_to_idx: Dict, pos_to_idx: Dict):\n",
    "        \"\"\"\n",
    "        Initializes a new POSDataset object.\n",
    "        Args:\n",
    "        - data: A list of sentences, where each sentence is a list of word/POS-tag pairs (tuples).\n",
    "        - word_to_idx: A dictionary mapping words to their corresponding indices.\n",
    "        - pos_to_idx: A dictionary mapping POS tags to their corresponding indices.\n",
    "        \"\"\"\n",
    "        # *****START OF YOUR CODE*****\n",
    "        \n",
    "        self.data = data\n",
    "        self.word_to_idx = word_to_idx\n",
    "        self.pos_to_idx = pos_to_idx\n",
    "\n",
    "\n",
    "        # *****END OF YOUR CODE*****\n",
    "\n",
    "    def vocab_lookup(self, sentence: List[Tuple[str, str]]) -> Tuple[torch.tensor, torch.tensor]:\n",
    "        \"\"\"\n",
    "        Converts a sentence represented as a list of word/POS-tag pairs (tuples) to a pair of PyTorch tensors\n",
    "        representing the corresponding sequences of word and POS tag indices. Out of vocabulary words are\n",
    "        represented by the index of the \"<UNK>\" token.\n",
    "\n",
    "        Args:\n",
    "        - sentence: A list of word/POS-tag pairs (tuples) representing a single sentence.\n",
    "\n",
    "        Returns:\n",
    "        A tuple containing two PyTorch tensors, the first representing the sequence of word indices in the sentence,\n",
    "        and the second representing the sequence of POS tag indices in the sentence.\n",
    "        \"\"\"\n",
    "        # *****START OF YOUR CODE*****\n",
    "        \n",
    "        \n",
    "        wordIndices = torch.empty(len(sentence), dtype=torch.long)\n",
    "        posIndices = torch.empty(len(sentence), dtype=torch.long)\n",
    "        \n",
    "        \n",
    "        for i in range(len(sentence)):\n",
    "            \n",
    "            \n",
    "            if sentence[i][0] in self.word_to_idx:\n",
    "                wordIndices[i] = self.word_to_idx[sentence[i][0]]\n",
    "                posIndices[i] = self.pos_to_idx['<' + sentence[i][1] + '>']\n",
    "            else:\n",
    "                wordIndices[i] = self.word_to_idx[\"<UNK>\"]\n",
    "                posIndices[i] = self.pos_to_idx[\"<UNK>\"]\n",
    "        \n",
    "\n",
    "        return wordIndices, posIndices\n",
    "    \n",
    "        # *****END OF YOUR CODE*****\n",
    "\n",
    "    \n",
    "    def __len__(self):\n",
    "        \"\"\"\n",
    "        Returns the number of sentences in the dataset.\n",
    "        \"\"\"\n",
    "        # *****START OF YOUR CODE*****\n",
    "        \n",
    "        return len(self.data)\n",
    "        # *****END OF YOUR CODE*****\n",
    "\n",
    "    def __getitem__(self, idx: int) -> Tuple[torch.tensor, torch.tensor]:\n",
    "        \"\"\"\n",
    "        Returns a single sentence from the dataset as a pair of PyTorch tensors representing the corresponding\n",
    "        sequences of word and POS tag indices.\n",
    "\n",
    "        Args:\n",
    "        - idx: The index of the sentence to retrieve.\n",
    "\n",
    "        Returns:\n",
    "        A tuple containing two PyTorch tensors, the first representing the sequence of word indices in the sentence,\n",
    "        and the second representing the sequence of POS tag indices in the sentence.\n",
    "        \"\"\"\n",
    "        # *****START OF YOUR CODE*****\n",
    "        \n",
    "        return self.vocab_lookup(self.data[idx])\n",
    "\n",
    "        # *****END OF YOUR CODE*****"
   ]
  },
  {
   "cell_type": "code",
   "execution_count": 34,
   "id": "41b06539",
   "metadata": {},
   "outputs": [
    {
     "name": "stdout",
     "output_type": "stream",
     "text": [
      "{'<PAD>': 0, '<UNK>': 1, '<NUM>': 2, '<_>': 3, '<NOUN>': 4, '<AUX>': 5, '<PUNCT>': 6, '<ADV>': 7, '<PRON>': 8, '<VERB>': 9, '<DET>': 10, '<PROPN>': 11, '<ADJ>': 12, '<CCONJ>': 13, '<ADP>': 14, '<PART>': 15, '<SCONJ>': 16, '<INTJ>': 17, '<X>': 18}\n"
     ]
    }
   ],
   "source": [
    "posDS = POSDataset(posTags ,word_to_idx, pos_to_idx)\n",
    "\n",
    "print(posDS.pos_to_idx)"
   ]
  },
  {
   "cell_type": "code",
   "execution_count": 35,
   "id": "9e55c3e4",
   "metadata": {},
   "outputs": [
    {
     "data": {
      "text/plain": [
       "(tensor([14, 15, 16, 17, 18, 19, 20, 21, 22, 23, 24, 25, 26, 27,  6]),\n",
       " tensor([8, 7, 9, 9, 9, 4, 8, 4, 9, 9, 4, 3, 4, 5, 6]))"
      ]
     },
     "execution_count": 35,
     "metadata": {},
     "output_type": "execute_result"
    }
   ],
   "source": [
    "posDS.__getitem__(2)"
   ]
  },
  {
   "cell_type": "code",
   "execution_count": 36,
   "id": "36712911",
   "metadata": {},
   "outputs": [],
   "source": [
    "BATCH_SIZE = 32 "
   ]
  },
  {
   "cell_type": "code",
   "execution_count": 37,
   "id": "328c86cd",
   "metadata": {},
   "outputs": [],
   "source": [
    "# This part is preparing the training and validation datasets by creating POSDataset objects \n",
    "# using training_data and validation_data. The word_to_idx and pos_to_idx dictionaries created in build_vocab \n",
    "# are passed to POSDataset so that each sentence in the datasets can be converted to a tensor of word and POS tag indices.\n",
    "# Then, DataLoader objects are created for both the training and validation datasets, with BATCH_SIZE batches per iteration. \n",
    "# shuffle=True is used to shuffle the order of samples in each batch, which helps to prevent the model from overfitting to the order of the data. \n",
    "# collate_batch is used as the function to merge samples into batches, as it pads sequences to the same length and \n",
    "# returns two tensors, one for the word indices and one for the POS tag indices.\n",
    "# This code block is essential to prepare the data for training the model. \n",
    "# The training and validation dataloaders can be used in the training loop to iterate over the dataset in batches.\n",
    "\n",
    "rawTrainData = parse_file(\"dataset/train.conllu\")\n",
    "rawValidationData = parse_file(\"dataset/val.conllu\")\n",
    "\n",
    "training_dataset = [[0 for i in range(len(rawTrainData))] for j in range(len(rawTrainData))]\n",
    "validation_dataset = [[0 for i in range(len(rawValidationData))] for j in range(len(rawValidationData))]\n",
    "\n",
    "\n",
    "for i in range(len(rawTrainData)):\n",
    "    training_dataset[i] = posDS.__getitem__(i)\n",
    "\n",
    "for i in range(len(rawValidationData)):\n",
    "    validation_dataset[i] = posDS.__getitem__(i)\n",
    "\n",
    "\n",
    "training_dataloader = DataLoader(training_dataset, batch_size=BATCH_SIZE, collate_fn=collate_batch, shuffle=True)\n",
    "validation_dataloader = DataLoader(validation_dataset, batch_size=BATCH_SIZE, collate_fn=collate_batch, shuffle=True)\n",
    "\n",
    "\n"
   ]
  },
  {
   "cell_type": "code",
   "execution_count": 38,
   "id": "5947ccce",
   "metadata": {},
   "outputs": [
    {
     "name": "stdout",
     "output_type": "stream",
     "text": [
      "Unique tokens in word vocabulary: 33488\n",
      "Unique tokens in tag vocabulary: 19\n",
      "\n",
      "Number of training examples: 7803\n",
      "Number of validation examples: 979\n"
     ]
    }
   ],
   "source": [
    "# It is always usefull to see dataset statistics to get a better understanding of the data.\n",
    "print(f\"Unique tokens in word vocabulary: {len(word_to_idx)}\")\n",
    "print(f\"Unique tokens in tag vocabulary: {len(pos_to_idx)}\")\n",
    "print()\n",
    "print(f\"Number of training examples: {len(training_dataset)}\")\n",
    "print(f\"Number of validation examples: {len(validation_dataset)}\")"
   ]
  },
  {
   "cell_type": "code",
   "execution_count": 39,
   "id": "28217969",
   "metadata": {},
   "outputs": [
    {
     "data": {
      "text/plain": [
       "tensor([39, 40, 41, 42, 43, 44,  6])"
      ]
     },
     "execution_count": 39,
     "metadata": {},
     "output_type": "execute_result"
    }
   ],
   "source": [
    "training_dataset[4][0]"
   ]
  },
  {
   "cell_type": "code",
   "execution_count": 40,
   "id": "d913300c",
   "metadata": {},
   "outputs": [
    {
     "name": "stdout",
     "output_type": "stream",
     "text": [
      "Sample from the dataset: (tensor([39, 40, 41, 42, 43, 44,  6]), tensor([4, 7, 7, 3, 9, 5, 6]))\n",
      "\n",
      "Human-readable version: Rüzgâr yine güçlü esiyordu esiyor du . <NOUN> <ADV> <ADV> <_> <VERB> <AUX> <PUNCT>\n"
     ]
    }
   ],
   "source": [
    "# Check a random sample from the training dataset to see if the data is correctly loaded.\n",
    "print(\"Sample from the dataset:\", training_dataset[4])\n",
    "print()\n",
    "print(\"Human-readable version:\", convert_idx_to_words(training_dataset[4][0]), convert_idx_to_pos(training_dataset[4][1]))"
   ]
  },
  {
   "cell_type": "code",
   "execution_count": 41,
   "id": "83a7b571",
   "metadata": {
    "scrolled": true
   },
   "outputs": [
    {
     "data": {
      "text/plain": [
       "tensor([[ 2,  3,  4,  5,  6,  0,  0,  0,  0,  0,  0,  0,  0,  0,  0,  0,  0,  0,\n",
       "          0,  0,  0,  0],\n",
       "        [ 7,  8,  9, 10, 11, 12, 13,  6,  0,  0,  0,  0,  0,  0,  0,  0,  0,  0,\n",
       "          0,  0,  0,  0],\n",
       "        [14, 15, 16, 17, 18, 19, 20, 21, 22, 23, 24, 25, 26, 27,  6,  0,  0,  0,\n",
       "          0,  0,  0,  0],\n",
       "        [28, 29, 30, 31, 32, 33, 34, 35, 36, 37, 38,  6,  0,  0,  0,  0,  0,  0,\n",
       "          0,  0,  0,  0],\n",
       "        [39, 40, 41, 42, 43, 44,  6,  0,  0,  0,  0,  0,  0,  0,  0,  0,  0,  0,\n",
       "          0,  0,  0,  0],\n",
       "        [45, 46, 47, 48, 49, 30, 50, 51, 52, 53, 54, 55, 56, 57, 58, 59, 60, 10,\n",
       "         61, 62, 63,  6],\n",
       "        [64, 65, 66, 67, 68, 69, 70, 71, 72, 73, 74, 75,  0,  0,  0,  0,  0,  0,\n",
       "          0,  0,  0,  0],\n",
       "        [76, 77, 78, 79, 80, 81,  6,  0,  0,  0,  0,  0,  0,  0,  0,  0,  0,  0,\n",
       "          0,  0,  0,  0]])"
      ]
     },
     "execution_count": 41,
     "metadata": {},
     "output_type": "execute_result"
    }
   ],
   "source": [
    "collate_batch(training_dataset[0:8])[0]"
   ]
  },
  {
   "cell_type": "code",
   "execution_count": 42,
   "id": "9f8e11ff",
   "metadata": {},
   "outputs": [],
   "source": [
    "import torch.nn.functional as F\n",
    "\n",
    "class BiLSTMPOSTagger(nn.Module):\n",
    "    def __init__(self, input_dim, embedding_dim, hidden_dim, output_dim, n_layers, bidirectional, dropout, pad_idx):\n",
    "        \"\"\"\n",
    "        BiLSTM model for POS tagging.\n",
    "        Check this link for more details: https://pytorch.org/docs/stable/generated/torch.nn.LSTM.html\n",
    "\n",
    "        Args:\n",
    "            input_dim (int): Number of unique words in the vocabulary.\n",
    "            embedding_dim (int): Dimension of the word embeddings.\n",
    "            hidden_dim (int): Dimension of the LSTM hidden states.\n",
    "            output_dim (int): Number of unique POS tags.\n",
    "            n_layers (int): Number of LSTM layers.\n",
    "            bidirectional (bool): Whether to use a bidirectional LSTM.\n",
    "            dropout (float): Probability of dropout, if any.\n",
    "            pad_idx (int): Index of the <PAD> token in the vocabulary.\n",
    "            embed_model (fasttext.FastText._FastText): FastText embedding model\n",
    "        \"\"\"\n",
    "        super().__init__()\n",
    "        \n",
    "        # *****START OF YOUR CODE*****\n",
    "\n",
    "        self.embedding_dim = embedding_dim\n",
    "        self.embedding = nn.Embedding(input_dim, embedding_dim)\n",
    "        self.output_dim = output_dim\n",
    "        \n",
    "        self.lstm = nn.LSTM(embedding_dim, hidden_dim, num_layers=n_layers, bidirectional=bidirectional, dropout=dropout)\n",
    "        self.output_layer = nn.Linear(hidden_dim * (2 if bidirectional else 1), output_dim)\n",
    "        self.dropout = nn.Dropout(dropout)\n",
    "        \n",
    "        # *****END OF YOUR CODE*****\n",
    "\n",
    "    def forward(self, text):\n",
    "        \"\"\"\n",
    "        Perform forward pass through the model.\n",
    "\n",
    "        Args:\n",
    "            text (Tensor): Input text of shape [batch size, sent len].\n",
    "\n",
    "        Returns:\n",
    "            Tensor: Predictions of shape [batch size, sent len, output dim].\n",
    "        \"\"\"\n",
    "        # *****START OF YOUR CODE*****\n",
    "        \n",
    "        if len(text.shape) == 1:\n",
    "            text = text.unsqueeze(0)\n",
    "\n",
    "        \n",
    "        \n",
    "        embedded = self.embedding(text)\n",
    "\n",
    "        embedded = self.dropout(embedded)\n",
    "\n",
    "        embedded = embedded.permute(1, 0, 2)  # Shape: [sent len, batch size, embedding dim]\n",
    "\n",
    "        lstm_out, _ = self.lstm(embedded)\n",
    "\n",
    "        lstm_out = self.dropout(lstm_out)\n",
    "\n",
    "        lstm_out = lstm_out.permute(1, 0, 2)\n",
    "\n",
    "        predictions = self.output_layer(lstm_out)\n",
    "\n",
    "    \n",
    "\n",
    "        return predictions\n",
    "\n",
    "        # *****END OF YOUR CODE*****\n",
    "\n"
   ]
  },
  {
   "cell_type": "code",
   "execution_count": 43,
   "id": "9906c754",
   "metadata": {},
   "outputs": [],
   "source": [
    "#collate_batch(training_dataset[0:8])[0]"
   ]
  },
  {
   "cell_type": "code",
   "execution_count": 44,
   "id": "ce23dca8",
   "metadata": {},
   "outputs": [],
   "source": [
    "posTaggerLstm  = BiLSTMPOSTagger(len(word_to_idx), 50, 50, len(pos_to_idx), 1, False, 0, pos_to_idx['<PAD>'])\n",
    "\n",
    "#def __init__(self, input_dim, embedding_dim, hidden_dim, output_dim, n_layers, bidirectional, dropout, pad_idx, embed_model):\n"
   ]
  },
  {
   "cell_type": "code",
   "execution_count": 45,
   "id": "449cc45f",
   "metadata": {},
   "outputs": [],
   "source": [
    "#posTaggerLstm.forward(collate_batch(training_dataset[0:8])[0])"
   ]
  },
  {
   "cell_type": "code",
   "execution_count": 46,
   "id": "a23b7eab",
   "metadata": {},
   "outputs": [],
   "source": [
    "#posTaggerLstm.forward(training_dataset[5][0])"
   ]
  },
  {
   "cell_type": "code",
   "execution_count": 47,
   "id": "ecb7d2bf",
   "metadata": {},
   "outputs": [],
   "source": [
    "# initialize the model\n",
    "model = posTaggerLstm"
   ]
  },
  {
   "cell_type": "code",
   "execution_count": 48,
   "id": "68403c68",
   "metadata": {},
   "outputs": [
    {
     "name": "stdout",
     "output_type": "stream",
     "text": [
      "tensor([[[-4.2129e-02,  1.0989e-01,  1.8281e-02, -5.7311e-02,  1.2267e-01,\n",
      "           9.3718e-02,  5.5838e-02, -3.4160e-02,  7.7673e-02,  1.1884e-02,\n",
      "           1.6854e-01, -4.3238e-02,  6.2788e-02, -9.8674e-02, -1.3750e-01,\n",
      "           1.1036e-02, -4.7391e-02,  1.7808e-02,  1.1277e-04],\n",
      "         [-6.3688e-02,  4.1358e-02,  6.6684e-02, -1.3199e-01,  1.9956e-01,\n",
      "           8.4090e-02,  7.9731e-02, -5.8043e-02,  1.1977e-01, -7.1021e-02,\n",
      "           1.9334e-01, -4.2557e-02,  4.0058e-02, -6.1211e-02, -8.1300e-02,\n",
      "          -2.8200e-02, -5.8278e-02,  1.2436e-01,  1.0911e-02],\n",
      "         [-1.1930e-02,  1.3219e-01,  2.2362e-02, -5.0677e-02,  2.7502e-01,\n",
      "           2.3505e-01,  1.6743e-01,  5.0217e-02,  1.3256e-01, -2.8351e-02,\n",
      "           2.1266e-01,  2.7879e-02,  2.9687e-02, -1.1512e-01, -1.6101e-01,\n",
      "          -7.6815e-02, -3.4698e-02,  9.5025e-02, -6.1736e-02],\n",
      "         [-3.4344e-02,  4.7601e-02,  5.6045e-02, -1.0110e-01,  2.3332e-01,\n",
      "           1.9335e-01,  1.3995e-01,  8.0567e-02,  1.1499e-01, -7.9197e-02,\n",
      "           3.2312e-01, -1.3048e-02,  7.6819e-02, -6.1837e-02, -1.9355e-01,\n",
      "          -4.8171e-02,  3.9100e-02,  1.4870e-01, -6.8451e-02],\n",
      "         [-1.0444e-01,  7.0224e-02,  7.8374e-02, -7.1059e-02,  1.8949e-01,\n",
      "           2.1501e-01,  9.3816e-02,  2.1353e-02, -4.8089e-02,  7.1571e-02,\n",
      "           2.1471e-01,  4.0996e-02, -9.2676e-02, -3.7743e-03, -2.0589e-01,\n",
      "           6.2475e-02, -2.7912e-02,  1.2913e-02,  8.6734e-03],\n",
      "         [-1.4169e-01,  9.2736e-02, -1.2797e-01, -2.3260e-01,  7.2948e-02,\n",
      "           3.2047e-02,  1.1182e-01,  6.6785e-02,  1.7979e-01, -2.3553e-02,\n",
      "           1.8215e-01, -1.7668e-02,  6.5537e-02, -5.6291e-02, -7.3022e-02,\n",
      "           1.3370e-01,  1.1231e-01,  1.4696e-01, -1.3701e-01],\n",
      "         [-1.1776e-01,  2.0023e-02,  5.4136e-02, -2.2770e-01,  1.7180e-01,\n",
      "           2.0485e-02,  1.3568e-01,  1.1169e-01, -3.5411e-02,  2.7027e-02,\n",
      "           1.5645e-01, -8.7274e-02,  1.7508e-01, -8.8966e-02, -9.4217e-02,\n",
      "           8.1010e-02, -3.4475e-03,  2.0182e-01, -1.0541e-01],\n",
      "         [-6.1144e-02,  5.8503e-02,  1.7501e-01, -1.7346e-01,  1.7040e-01,\n",
      "          -2.6134e-02,  1.0686e-01,  1.3000e-01, -4.6261e-02, -8.9002e-02,\n",
      "           1.4724e-01, -1.9699e-01,  1.0429e-01, -3.5919e-02, -1.8634e-01,\n",
      "           1.6336e-01, -2.9512e-02,  6.9049e-02, -1.2854e-02]]])\n"
     ]
    }
   ],
   "source": [
    "# See the output of the model for a random sample from the training dataset.\n",
    "# It is wrapped in torch.no_grad() because we are not training the model.\n",
    "with torch.no_grad():\n",
    "    inputs = training_dataset[1][0]\n",
    "    tag_scores = model(inputs)\n",
    "    print(tag_scores)"
   ]
  },
  {
   "cell_type": "code",
   "execution_count": 49,
   "id": "35eea10c",
   "metadata": {},
   "outputs": [
    {
     "data": {
      "text/plain": [
       "tensor([ 7,  8,  9, 10,  3,  4,  5,  6])"
      ]
     },
     "execution_count": 49,
     "metadata": {},
     "output_type": "execute_result"
    }
   ],
   "source": [
    "training_dataset[1][1]"
   ]
  },
  {
   "cell_type": "code",
   "execution_count": 50,
   "id": "83c8be6a",
   "metadata": {},
   "outputs": [],
   "source": [
    "#Define hyperparameters\n",
    "\n",
    "NUM_OF_EPOCHS = 10\n",
    "LEARNING_RATE = 0.01"
   ]
  },
  {
   "cell_type": "code",
   "execution_count": 51,
   "id": "84fd9ed5",
   "metadata": {},
   "outputs": [],
   "source": [
    "optimizer = optim.Adam(model.parameters(), lr=LEARNING_RATE)\n",
    "\n",
    "criterion = nn.CrossEntropyLoss(ignore_index=pos_to_idx['<PAD>']) #Modify this part if you are using a different padding token.\n",
    "criterion = criterion.to(device)"
   ]
  },
  {
   "cell_type": "code",
   "execution_count": 52,
   "id": "00faaefc",
   "metadata": {},
   "outputs": [],
   "source": [
    "def train_for_single_epoch(model, iterator, optimizer, criterion, device):\n",
    "    \"\"\"\n",
    "    Trains the model for one epoch on the given iterator with the specified optimizer and criterion.\n",
    "\n",
    "    Args:\n",
    "        model: The neural network model to train.\n",
    "        iterator: The iterator over the training dataset.\n",
    "        optimizer: The optimizer to use for gradient descent.\n",
    "        criterion: The loss function to use.\n",
    "        tag_pad_idx: The index of the padding token in the tag vocabulary.\n",
    "        tag_unk_idx: The index of the unknown token in the tag vocabulary.\n",
    "\n",
    "    Returns:\n",
    "        The average loss and accuracy for the epoch.\n",
    "    \"\"\"\n",
    "    # *****START OF YOUR CODE*****\n",
    "    \n",
    "    model.train()\n",
    "    epoch_loss = 0\n",
    "    epoch_acc = 0\n",
    "\n",
    "    for text, tags in iterator:\n",
    "        text = text.to(device)\n",
    "        tags = tags.to(device)\n",
    "\n",
    "        optimizer.zero_grad()\n",
    "\n",
    "        predictions = model(text)\n",
    "        reshaped_preds = predictions.view(-1, predictions.shape[-1])\n",
    "        reshaped_tags = tags.reshape(-1)\n",
    "\n",
    "        mask = (reshaped_tags != pos_to_idx['<PAD>'])\n",
    "        loss = criterion(reshaped_preds[mask], reshaped_tags[mask])\n",
    "\n",
    "        acc = categorical_accuracy(predictions, tags, pos_to_idx['<PAD>'])\n",
    "\n",
    "        loss.backward()\n",
    "        optimizer.step()\n",
    "\n",
    "        epoch_loss += loss.item()\n",
    "        epoch_acc += acc.item()\n",
    "\n",
    "    return epoch_loss / len(iterator), epoch_acc / len(iterator)\n",
    "\n",
    "    # *****END OF YOUR CODE*****"
   ]
  },
  {
   "cell_type": "code",
   "execution_count": 53,
   "id": "0581ebae",
   "metadata": {},
   "outputs": [],
   "source": [
    "def categorical_accuracy(preds, y, tag_pad_idx):\n",
    "    \"\"\"\n",
    "    Returns the categorical accuracy between predictions and the ground truth, ignoring pad tokens.\n",
    "    \"\"\"\n",
    "    # *****START OF YOUR CODE*****\n",
    "    \n",
    "    max_preds = preds.argmax(dim=-1)\n",
    "    non_pad_elements = (y != tag_pad_idx).nonzero(as_tuple=True)\n",
    "    \n",
    "    correct_preds = max_preds[non_pad_elements]\n",
    "    correct_tags = y[non_pad_elements]\n",
    "    \n",
    "    correct = correct_preds.eq(correct_tags).sum()\n",
    "    total = len(correct_tags)\n",
    "\n",
    "    return correct.float() / total\n",
    "\n",
    "    # *****END OF YOUR CODE*****"
   ]
  },
  {
   "cell_type": "code",
   "execution_count": 54,
   "id": "47f2f7c1",
   "metadata": {},
   "outputs": [],
   "source": [
    "def evaluate(model, iterator, tag_pad_idx):\n",
    "    \"\"\"\n",
    "    Evaluate the performance of a BiLSTMPOSTagger model on a given dataset iterator. Use the categorical_accuracy function\n",
    "    you implemented above to calculate the accuracy on a batch of predictions.\n",
    "\n",
    "    Args:\n",
    "    - model: a BiLSTMPOSTagger object.\n",
    "    - iterator: a DataLoader object containing (text, tags) tuples.\n",
    "    - tag_pad_idx: an integer representing the index of the padding token in the tag vocabulary.\n",
    "\n",
    "    Returns:\n",
    "    - A float representing the categorical accuracy of the model on the given dataset iterator.\n",
    "\n",
    "    \"\"\"\n",
    "    # *****START OF YOUR CODE*****\n",
    "    \n",
    "    if hasattr(model, 'eval'):\n",
    "        model.eval()\n",
    "    \n",
    "    epoch_loss = 0\n",
    "    epoch_acc = 0\n",
    "\n",
    "    with torch.no_grad():\n",
    "        for text, tags in iterator:\n",
    "            text = text.to(device)\n",
    "            tags = tags.to(device)\n",
    "\n",
    "            predictions = model(text)\n",
    "            acc = categorical_accuracy(predictions, tags, tag_pad_idx)\n",
    "\n",
    "            epoch_acc += acc.item()\n",
    "\n",
    "    return epoch_acc / len(iterator)\n",
    "\n",
    "    # *****END OF YOUR CODE*****"
   ]
  },
  {
   "cell_type": "code",
   "execution_count": 55,
   "id": "ad712f28",
   "metadata": {},
   "outputs": [
    {
     "name": "stdout",
     "output_type": "stream",
     "text": [
      "Accuracy before training: 10.46%\n"
     ]
    }
   ],
   "source": [
    "# Check the models accuracy without training\n",
    "accuracy = evaluate(model, validation_dataloader, tag_pad_idx=pos_to_idx['<PAD>'])\n",
    "print(f'Accuracy before training: {accuracy*100:.2f}%')"
   ]
  },
  {
   "cell_type": "code",
   "execution_count": 56,
   "id": "4aaf693c",
   "metadata": {},
   "outputs": [
    {
     "name": "stdout",
     "output_type": "stream",
     "text": [
      "Accuracy of random predictions: 5.73%\n",
      "Most frequent tag: 4\n",
      "Accuracy of predicting the most frequent class: 30.71%\n"
     ]
    }
   ],
   "source": [
    "import torch.nn.functional as F\n",
    "\n",
    "def random_model(text):\n",
    "    with torch.no_grad():\n",
    "        # Get the input tensor shape\n",
    "        input_shape = model(text).shape\n",
    "        # Create the logits tensor with the same shape\n",
    "        logits = torch.zeros(*input_shape, dtype=torch.float32, device=text.device)\n",
    "        # Create random predictions\n",
    "        random_preds = torch.randint(len(pos_to_idx), input_shape[:-1], device=text.device)\n",
    "        logits.scatter_(2, random_preds.unsqueeze(2), 1)\n",
    "        \n",
    "    return logits\n",
    "\n",
    "random_accuracy = evaluate(random_model, validation_dataloader, tag_pad_idx=pos_to_idx['<PAD>'])\n",
    "print(f'Accuracy of random predictions: {random_accuracy*100:.2f}%')\n",
    "\n",
    "from collections import Counter\n",
    "\n",
    "tag_counter = Counter()\n",
    "for _, tags in training_dataloader:\n",
    "    tag_counter.update(tags.reshape(-1).tolist())\n",
    "\n",
    "del tag_counter[pos_to_idx['<PAD>']]\n",
    "\n",
    "most_frequent_tag = tag_counter.most_common(1)[0][0]\n",
    "print(f\"Most frequent tag: {most_frequent_tag}\")\n",
    "\n",
    "epoch_correct = epoch_n_label = 0\n",
    "\n",
    "for text, tags in validation_dataloader:\n",
    "    text = text.to(device)\n",
    "    tags = tags.to(device)\n",
    "\n",
    "    most_frequent_preds = torch.full_like(tags, fill_value=most_frequent_tag)\n",
    "\n",
    "    mask = (tags != pos_to_idx['<PAD>'])\n",
    "    correct = most_frequent_preds.eq(tags).masked_select(mask).sum().item()\n",
    "    n_label = mask.sum().item()\n",
    "\n",
    "    epoch_correct += correct\n",
    "    epoch_n_label += n_label\n",
    "\n",
    "most_frequent_accuracy = epoch_correct / epoch_n_label\n",
    "print(f'Accuracy of predicting the most frequent class: {most_frequent_accuracy*100:.2f}%')\n"
   ]
  },
  {
   "cell_type": "code",
   "execution_count": 57,
   "id": "f2b6ee30",
   "metadata": {},
   "outputs": [],
   "source": [
    "#Define hyperparameters\n",
    "\n",
    "NUM_OF_EPOCHS = 10\n",
    "LEARNING_RATE = 0.01"
   ]
  },
  {
   "cell_type": "code",
   "execution_count": 58,
   "id": "97cefe4a",
   "metadata": {},
   "outputs": [],
   "source": [
    "optimizer = optim.Adam(model.parameters(), lr=LEARNING_RATE)\n",
    "\n",
    "criterion = nn.CrossEntropyLoss(ignore_index=pos_to_idx['<PAD>']) #Modify this part if you are using a different padding token.\n",
    "criterion = criterion.to(device)"
   ]
  },
  {
   "cell_type": "code",
   "execution_count": 59,
   "id": "c9e5684a",
   "metadata": {
    "scrolled": true
   },
   "outputs": [
    {
     "name": "stdout",
     "output_type": "stream",
     "text": [
      "Epoch: 01 | Training Loss: 1.171 | Training Acc: 62.77% | Validation Acc: 77.82%\n",
      "Epoch: 02 | Training Loss: 0.615 | Training Acc: 80.72% | Validation Acc: 88.31%\n",
      "Epoch: 03 | Training Loss: 0.331 | Training Acc: 89.99% | Validation Acc: 94.52%\n",
      "Epoch: 04 | Training Loss: 0.185 | Training Acc: 94.33% | Validation Acc: 96.28%\n",
      "Epoch: 05 | Training Loss: 0.119 | Training Acc: 96.20% | Validation Acc: 97.69%\n",
      "Epoch: 06 | Training Loss: 0.084 | Training Acc: 97.28% | Validation Acc: 98.12%\n",
      "Epoch: 07 | Training Loss: 0.062 | Training Acc: 97.98% | Validation Acc: 98.77%\n",
      "Epoch: 08 | Training Loss: 0.049 | Training Acc: 98.43% | Validation Acc: 98.95%\n",
      "Epoch: 09 | Training Loss: 0.040 | Training Acc: 98.67% | Validation Acc: 99.12%\n",
      "Epoch: 10 | Training Loss: 0.034 | Training Acc: 98.85% | Validation Acc: 99.33%\n"
     ]
    }
   ],
   "source": [
    "loss_history = []\n",
    "accuracy_history = []\n",
    "\n",
    "for x in range(NUM_OF_EPOCHS):\n",
    "    # Call the train_for_single_epoch function and store the result in the training_loss variable.\n",
    "    # Call the evaluate function and store the result in the validation_accuracy variable.\n",
    "    # Print out the current epoch number, training loss, and validation accuracy using the print function and formatted string syntax. \n",
    "    # Apend the training_loss and validation_accuracy values to their respective history lists (loss_history and accuracy_history).\n",
    "    # *****START OF YOUR CODE*****\n",
    "    training_loss, training_accuracy = train_for_single_epoch(model, training_dataloader, optimizer, criterion, device)\n",
    "    validation_accuracy = evaluate(model, validation_dataloader, pos_to_idx['<PAD>'])\n",
    "    \n",
    "    print(f'Epoch: {x+1:02} | Training Loss: {training_loss:.3f} | Training Acc: {training_accuracy*100:.2f}% | Validation Acc: {validation_accuracy*100:.2f}%')\n",
    "    \n",
    "    loss_history.append(training_loss)\n",
    "    accuracy_history.append(validation_accuracy)\n",
    "    \n",
    "\n",
    "    # *****END OF YOUR CODE*****\n",
    "    \n",
    "# Accuracy increses dramatically even after first training.\n",
    "#I think this is related to most words have a few (most of them is porbably 1) possible pos tag, so in the first iteeration model lerns themm, then it starts to learn contextual ones\n"
   ]
  },
  {
   "cell_type": "code",
   "execution_count": 60,
   "id": "2f460dcb",
   "metadata": {},
   "outputs": [
    {
     "data": {
      "image/png": "[encoded data removed]",
      "text/plain": [
       "<Figure size 640x480 with 2 Axes>"
      ]
     },
     "metadata": {},
     "output_type": "display_data"
    }
   ],
   "source": [
    "import matplotlib.pyplot as plt\n",
    "\n",
    "# To plot the training metrics, use the matplotlib library.\n",
    "\n",
    "# *****START OF YOUR CODE*****\n",
    "\n",
    "fig, ax1 = plt.subplots()\n",
    "\n",
    "ax1.plot(loss_history, label='Training Loss', color='blue')\n",
    "ax1.set_xlabel('Epoch')\n",
    "ax1.set_ylabel('Loss')\n",
    "ax1.legend(loc='upper left')\n",
    "\n",
    "ax2 = ax1.twinx()\n",
    "\n",
    "ax2.plot(accuracy_history, label='Validation Accuracy', color='red')\n",
    "ax2.set_ylabel('Accuracy')\n",
    "ax2.legend(loc='upper right')\n",
    "\n",
    "plt.title('Training Loss and Validation Accuracy')\n",
    "plt.show()\n",
    "\n",
    "# *****END OF YOUR CODE*****\n"
   ]
  },
  {
   "cell_type": "code",
   "execution_count": 61,
   "id": "60abf3d5",
   "metadata": {},
   "outputs": [
    {
     "name": "stdout",
     "output_type": "stream",
     "text": [
      "Accuracy before training: 99.33%\n"
     ]
    }
   ],
   "source": [
    "# Check the models accuracy without training\n",
    "accuracy = evaluate(model, validation_dataloader, tag_pad_idx=pos_to_idx['<PAD>'])\n",
    "print(f'Accuracy before training: {accuracy*100:.2f}%')"
   ]
  },
  {
   "cell_type": "code",
   "execution_count": 62,
   "id": "b700fb13",
   "metadata": {},
   "outputs": [],
   "source": [
    "class DynamicallyEmbeddedPOSTagger(nn.Module):\n",
    "    def __init__(self, input_dim, embedding_dim, hidden_dim, output_dim, n_layers, bidirectional, dropout, pad_idx, embed_model):\n",
    "        \"\"\"\n",
    "        BiLSTM model for POS tagging.\n",
    "        Check this link for more details: https://pytorch.org/docs/stable/generated/torch.nn.LSTM.html\n",
    "\n",
    "        Args:\n",
    "            input_dim (int): Number of unique words in the vocabulary.\n",
    "            embedding_dim (int): Dimension of the word embeddings.\n",
    "            hidden_dim (int): Dimension of the LSTM hidden states.\n",
    "            output_dim (int): Number of unique POS tags.\n",
    "            n_layers (int): Number of LSTM layers.\n",
    "            bidirectional (bool): Whether to use a bidirectional LSTM.\n",
    "            dropout (float): Probability of dropout, if any.\n",
    "            pad_idx (int): Index of the <PAD> token in the vocabulary.\n",
    "            embed_model (fasttext.FastText._FastText): FastText embedding model\n",
    "        \"\"\"\n",
    "        super().__init__()\n",
    "\n",
    "        self.embedding_dim = embedding_dim\n",
    "        self.embed_model = embed_model\n",
    "        self.embedding = nn.Parameter(torch.zeros(input_dim, embedding_dim), requires_grad=False)\n",
    "        \n",
    "        # set the values of the embedding tensor to the values of the FastText embedding model\n",
    "        for i in range(len(idx_to_word)):\n",
    "            token = idx_to_word[i]\n",
    "            if token in self.embed_model:\n",
    "                self.embedding.data[i] = torch.tensor(self.embed_model[token], dtype=torch.float)        \n",
    "        \n",
    "        \n",
    "        self.output_dim = output_dim\n",
    "        self.lstm = nn.LSTM(embedding_dim, hidden_dim, num_layers=n_layers, bidirectional=bidirectional, dropout=dropout)\n",
    "        self.fc = nn.Linear(hidden_dim * (2 if bidirectional else 1), output_dim)\n",
    "        self.dropout = nn.Dropout(dropout)\n",
    "\n",
    "    def forward(self, text):\n",
    "        \"\"\"\n",
    "        Perform forward pass through the model.\n",
    "\n",
    "        Args:\n",
    "            text (Tensor): Input text of shape [batch size, sent len].\n",
    "\n",
    "        Returns:\n",
    "            Tensor: Predictions of shape [batch size, sent len, output dim].\n",
    "        \"\"\"\n",
    "        # *****START OF YOUR CODE*****\n",
    "        if len(text.shape) == 1:\n",
    "        # Add singleton dimension to create a batch of 1\n",
    "            text = text.unsqueeze(0)\n",
    "\n",
    "        \n",
    "        \n",
    "        # Embedding\n",
    "        embedded = self.embedding[text]\n",
    "\n",
    "        # Apply dropout\n",
    "        embedded = self.dropout(embedded)\n",
    "\n",
    "        # Permute dimensions to match the expected input shape for LSTM\n",
    "        embedded = embedded.permute(1, 0, 2)  # Shape: [sent len, batch size, embedding dim]\n",
    "\n",
    "        # LSTM\n",
    "        lstm_out, _ = self.lstm(embedded)\n",
    "\n",
    "        # Apply dropout\n",
    "        lstm_out = self.dropout(lstm_out)\n",
    "\n",
    "        # Permute dimensions back to [batch size, sent len, hidden_dim * num_directions]\n",
    "        lstm_out = lstm_out.permute(1, 0, 2)\n",
    "\n",
    "        # Fully connected layer\n",
    "        predictions = self.fc(lstm_out)\n",
    "\n",
    "    \n",
    "\n",
    "        return predictions\n",
    "\n",
    "        # *****END OF YOUR CODE*****\n",
    "\n"
   ]
  },
  {
   "cell_type": "code",
   "execution_count": 63,
   "id": "f0163afa",
   "metadata": {},
   "outputs": [],
   "source": [
    "dynamicallyEmbeddedTagger  = DynamicallyEmbeddedPOSTagger(len(word_to_idx), 100, 50, len(pos_to_idx), 2, True, 0, pos_to_idx['<PAD>'], embed_model_skipgram)\n",
    "\n",
    "\n"
   ]
  },
  {
   "cell_type": "code",
   "execution_count": 64,
   "id": "5d4f9a17",
   "metadata": {},
   "outputs": [],
   "source": [
    "# Initialize the model\n",
    "model = dynamicallyEmbeddedTagger\n",
    "# Load the FastText pre-trained embeddings and set them as the model's embedding layer\n",
    "# pretrained_embeddings = None\n",
    "# model.embedding.weight.data.copy_(pretrained_embeddings)"
   ]
  },
  {
   "cell_type": "code",
   "execution_count": 65,
   "id": "80334f61",
   "metadata": {},
   "outputs": [],
   "source": [
    "#Define hyperparameters\n",
    "\n",
    "NUM_OF_EPOCHS = 10\n",
    "LEARNING_RATE = 0.01"
   ]
  },
  {
   "cell_type": "code",
   "execution_count": 66,
   "id": "1cf23ad5",
   "metadata": {},
   "outputs": [],
   "source": [
    "optimizer = optim.Adam(model.parameters(), lr=LEARNING_RATE)\n",
    "\n",
    "criterion = nn.CrossEntropyLoss(ignore_index=pos_to_idx['<PAD>'])\n",
    "criterion = criterion.to(device)"
   ]
  },
  {
   "cell_type": "code",
   "execution_count": 67,
   "id": "9e2b9c25",
   "metadata": {},
   "outputs": [
    {
     "name": "stdout",
     "output_type": "stream",
     "text": [
      "Epoch: 01 | Training Loss: 1.471 | Training Acc: 51.43% | Validation Acc: 60.67%\n",
      "Epoch: 02 | Training Loss: 1.177 | Training Acc: 60.11% | Validation Acc: 62.53%\n",
      "Epoch: 03 | Training Loss: 1.120 | Training Acc: 62.04% | Validation Acc: 64.43%\n",
      "Epoch: 04 | Training Loss: 1.081 | Training Acc: 63.25% | Validation Acc: 65.62%\n",
      "Epoch: 05 | Training Loss: 1.045 | Training Acc: 64.18% | Validation Acc: 66.24%\n",
      "Epoch: 06 | Training Loss: 1.013 | Training Acc: 65.26% | Validation Acc: 67.94%\n",
      "Epoch: 07 | Training Loss: 0.981 | Training Acc: 66.22% | Validation Acc: 68.67%\n",
      "Epoch: 08 | Training Loss: 0.949 | Training Acc: 67.32% | Validation Acc: 69.75%\n",
      "Epoch: 09 | Training Loss: 0.920 | Training Acc: 68.25% | Validation Acc: 71.34%\n",
      "Epoch: 10 | Training Loss: 0.891 | Training Acc: 69.20% | Validation Acc: 72.60%\n"
     ]
    }
   ],
   "source": [
    "loss_history = []\n",
    "accuracy_history = []\n",
    "\n",
    "for x in range(NUM_OF_EPOCHS):\n",
    "    # Call the train_for_single_epoch function and store the result in the training_loss variable.\n",
    "    # Call the evaluate function and store the result in the validation_accuracy variable.\n",
    "    # Print out the current epoch number, training loss, and validation accuracy using the print function and formatted string syntax. \n",
    "    # Apend the training_loss and validation_accuracy values to their respective history lists (loss_history and accuracy_history).\n",
    "    \n",
    "    # *****START OF YOUR CODE*****\n",
    "    training_loss, training_accuracy = train_for_single_epoch(model, training_dataloader, optimizer, criterion, device)\n",
    "    validation_accuracy = evaluate(model, validation_dataloader, pos_to_idx['<PAD>'])\n",
    "    \n",
    "    print(f'Epoch: {x+1:02} | Training Loss: {training_loss:.3f} | Training Acc: {training_accuracy*100:.2f}% | Validation Acc: {validation_accuracy*100:.2f}%')\n",
    "    \n",
    "    loss_history.append(training_loss)\n",
    "    accuracy_history.append(validation_accuracy)\n",
    "    \n",
    "\n",
    "    # *****END OF YOUR CODE*****\n",
    "    "
   ]
  },
  {
   "cell_type": "code",
   "execution_count": 68,
   "id": "33232f75",
   "metadata": {},
   "outputs": [],
   "source": [
    "# Plot the loss and accuracy curves\n",
    "# *****START OF YOUR CODE*****\n",
    "\n",
    "\n",
    "fig, ax1 = plt.subplots()\n",
    "\n",
    "ax1.plot(loss_history, label='Training Loss', color='blue')\n",
    "ax1.set_xlabel('Epoch')\n",
    "ax1.set_ylabel('Loss')\n",
    "ax1.legend(loc='upper left')\n",
    "\n",
    "ax2 = ax1.twinx()\n",
    "\n",
    "ax2.plot(accuracy_history, label='Validation Accuracy', color='red')\n",
    "ax2.set_ylabel('Accuracy')\n",
    "ax2.legend(loc='upper right')\n",
    "\n",
    "plt.title('Training Loss and Validation Accuracy')\n",
    "plt.show()\n",
    "\n",
    "# *****END OF YOUR CODE*****"
   ]
  },
  {
   "cell_type": "code",
   "execution_count": null,
   "id": "1572beed",
   "metadata": {},
   "outputs": [],
   "source": []
  }
 ],
 "metadata": {
  "kernelspec": {
   "display_name": "NLP",
   "language": "python",
   "name": "nlp"
  },
  "language_info": {
   "codemirror_mode": {
    "name": "ipython",
    "version": 3
   },
   "file_extension": ".py",
   "mimetype": "text/x-python",
   "name": "python",
   "nbconvert_exporter": "python",
   "pygments_lexer": "ipython3",
   "version": "3.8.16"
  }
 },
 "nbformat": 4,
 "nbformat_minor": 5
}
